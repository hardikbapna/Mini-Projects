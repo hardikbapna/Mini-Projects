{
  "nbformat": 4,
  "nbformat_minor": 0,
  "metadata": {
    "colab": {
      "name": "ER_Timeseries_Forecasting_Coke.ipynb",
      "provenance": [],
      "collapsed_sections": []
    },
    "kernelspec": {
      "name": "python3",
      "display_name": "Python 3"
    },
    "accelerator": "GPU"
  },
  "cells": [
    {
      "cell_type": "code",
      "metadata": {
        "id": "LCD-EJ6cC2Sv",
        "colab_type": "code",
        "colab": {}
      },
      "source": [
        ""
      ],
      "execution_count": 0,
      "outputs": []
    },
    {
      "cell_type": "code",
      "metadata": {
        "id": "D_FkC4Vr8Zfb",
        "colab_type": "code",
        "colab": {}
      },
      "source": [
        "import numpy as np\n",
        "import pandas as pd\n",
        "import scipy as sc\n",
        "import matplotlib.pyplot as plt\n",
        "import seaborn as sns\n",
        "from sklearn.model_selection import train_test_split\n",
        "from sklearn.naive_bayes import GaussianNB\n",
        "from sklearn.preprocessing import MinMaxScaler\n",
        "from sklearn.metrics import confusion_matrix\n",
        "from sklearn.preprocessing import StandardScaler\n",
        "from sklearn.metrics import accuracy_score\n",
        "from sklearn.utils import resample\n",
        "\n",
        "from sklearn.linear_model import LinearRegression\n",
        "from sklearn.metrics import r2_score\n",
        "\n",
        "from statsmodels.tsa.stattools import adfuller\n",
        "from statsmodels.tsa.arima_model import ARIMA"
      ],
      "execution_count": 0,
      "outputs": []
    },
    {
      "cell_type": "code",
      "metadata": {
        "id": "zyrYu8L-cQdH",
        "colab_type": "code",
        "outputId": "f205236e-3bdc-484f-d1ad-1f1e1a305a0b",
        "colab": {
          "base_uri": "https://localhost:8080/",
          "height": 124
        }
      },
      "source": [
        "#--------------------Run this cell to mount your Google Drive-------------------\n",
        "from google.colab import drive\n",
        "drive.mount('/content/drive')"
      ],
      "execution_count": 2,
      "outputs": [
        {
          "output_type": "stream",
          "text": [
            "Go to this URL in a browser: https://accounts.google.com/o/oauth2/auth?client_id=947318989803-6bn6qk8qdgf4n4g3pfee6491hc0brc4i.apps.googleusercontent.com&redirect_uri=urn%3aietf%3awg%3aoauth%3a2.0%3aoob&response_type=code&scope=email%20https%3a%2f%2fwww.googleapis.com%2fauth%2fdocs.test%20https%3a%2f%2fwww.googleapis.com%2fauth%2fdrive%20https%3a%2f%2fwww.googleapis.com%2fauth%2fdrive.photos.readonly%20https%3a%2f%2fwww.googleapis.com%2fauth%2fpeopleapi.readonly\n",
            "\n",
            "Enter your authorization code:\n",
            "··········\n",
            "Mounted at /content/drive\n"
          ],
          "name": "stdout"
        }
      ]
    },
    {
      "cell_type": "code",
      "metadata": {
        "id": "GbUiRyUdcW6v",
        "colab_type": "code",
        "colab": {}
      },
      "source": [
        "#Reading the file from Google Drive\n",
        "\n",
        "data = pd.read_excel(\"/content/drive/My Drive/ER/Forecasting/CocaCola_Sales_Rawdata.xlsx\")\n",
        "#data_x = data.drop(labels = [\"y\"], axis = 1)\n",
        "#data_y = data[\"y\"]"
      ],
      "execution_count": 0,
      "outputs": []
    },
    {
      "cell_type": "code",
      "metadata": {
        "id": "5CRy22oIaAdq",
        "colab_type": "code",
        "colab": {}
      },
      "source": [
        "sns.set_style(style = \"whitegrid\")"
      ],
      "execution_count": 0,
      "outputs": []
    },
    {
      "cell_type": "code",
      "metadata": {
        "id": "JKu_j0wnEDQQ",
        "colab_type": "code",
        "colab": {}
      },
      "source": [
        ""
      ],
      "execution_count": 0,
      "outputs": []
    },
    {
      "cell_type": "code",
      "metadata": {
        "id": "6snE92CQEDex",
        "colab_type": "code",
        "outputId": "511a38f4-1bfd-4574-ae68-969dea30a304",
        "colab": {
          "base_uri": "https://localhost:8080/",
          "height": 202
        }
      },
      "source": [
        "data.head()"
      ],
      "execution_count": 59,
      "outputs": [
        {
          "output_type": "execute_result",
          "data": {
            "text/html": [
              "<div>\n",
              "<style scoped>\n",
              "    .dataframe tbody tr th:only-of-type {\n",
              "        vertical-align: middle;\n",
              "    }\n",
              "\n",
              "    .dataframe tbody tr th {\n",
              "        vertical-align: top;\n",
              "    }\n",
              "\n",
              "    .dataframe thead th {\n",
              "        text-align: right;\n",
              "    }\n",
              "</style>\n",
              "<table border=\"1\" class=\"dataframe\">\n",
              "  <thead>\n",
              "    <tr style=\"text-align: right;\">\n",
              "      <th></th>\n",
              "      <th>Quarter</th>\n",
              "      <th>Sales</th>\n",
              "    </tr>\n",
              "  </thead>\n",
              "  <tbody>\n",
              "    <tr>\n",
              "      <th>0</th>\n",
              "      <td>Q1_86</td>\n",
              "      <td>1734.827000</td>\n",
              "    </tr>\n",
              "    <tr>\n",
              "      <th>1</th>\n",
              "      <td>Q2_86</td>\n",
              "      <td>2244.960999</td>\n",
              "    </tr>\n",
              "    <tr>\n",
              "      <th>2</th>\n",
              "      <td>Q3_86</td>\n",
              "      <td>2533.804993</td>\n",
              "    </tr>\n",
              "    <tr>\n",
              "      <th>3</th>\n",
              "      <td>Q4_86</td>\n",
              "      <td>2154.962997</td>\n",
              "    </tr>\n",
              "    <tr>\n",
              "      <th>4</th>\n",
              "      <td>Q1_87</td>\n",
              "      <td>1547.818996</td>\n",
              "    </tr>\n",
              "  </tbody>\n",
              "</table>\n",
              "</div>"
            ],
            "text/plain": [
              "  Quarter        Sales\n",
              "0   Q1_86  1734.827000\n",
              "1   Q2_86  2244.960999\n",
              "2   Q3_86  2533.804993\n",
              "3   Q4_86  2154.962997\n",
              "4   Q1_87  1547.818996"
            ]
          },
          "metadata": {
            "tags": []
          },
          "execution_count": 59
        }
      ]
    },
    {
      "cell_type": "code",
      "metadata": {
        "id": "tfGi411bEDo4",
        "colab_type": "code",
        "colab": {}
      },
      "source": [
        ""
      ],
      "execution_count": 0,
      "outputs": []
    },
    {
      "cell_type": "code",
      "metadata": {
        "id": "1aREjoxwEDkM",
        "colab_type": "code",
        "colab": {}
      },
      "source": [
        "def case_q1(i):\n",
        "  data[\"Month\"].iloc[i] = 3\n",
        "  data[\"Day\"].iloc[i] = 31\n",
        "  \n",
        "def case_q2(i):\n",
        "  data[\"Month\"].iloc[i] = 6\n",
        "  data[\"Day\"].iloc[i] = 30\n",
        "\n",
        "def case_q3(i):\n",
        "  data[\"Month\"].iloc[i] = 9\n",
        "  data[\"Day\"].iloc[i] = 30\n",
        "\n",
        "def case_q4(i):\n",
        "  data[\"Month\"].iloc[i] = 12\n",
        "  data[\"Day\"].iloc[i] = 31\n",
        "\n",
        "def switch(para, i):\n",
        "  switcher = {\n",
        "      'q1': case_q1,\n",
        "      'q2': case_q2,\n",
        "      'q3': case_q3,\n",
        "      'q4': case_q4,\n",
        "  }\n",
        "  \n",
        "  switcher.get(para, \"Not a Valid Input\")(i)"
      ],
      "execution_count": 0,
      "outputs": []
    },
    {
      "cell_type": "code",
      "metadata": {
        "id": "3yiU2jq7EDhf",
        "colab_type": "code",
        "outputId": "1e8d2200-bc86-4c77-ffa2-a7877362f794",
        "colab": {
          "base_uri": "https://localhost:8080/",
          "height": 104
        }
      },
      "source": [
        "data[\"Year\"] = \"\"\n",
        "data[\"Month\"] = \"\"\n",
        "data[\"Day\"] = \"\"\n",
        "for i in range(0,len(data)):\n",
        "  data[\"Year\"].iloc[i] = int('19'+(str(data[\"Quarter\"][i][3:5])))\n",
        "  switch(str(data[\"Quarter\"][i][0:2]).lower(), i)"
      ],
      "execution_count": 61,
      "outputs": [
        {
          "output_type": "stream",
          "text": [
            "/usr/local/lib/python3.6/dist-packages/pandas/core/indexing.py:205: SettingWithCopyWarning: \n",
            "A value is trying to be set on a copy of a slice from a DataFrame\n",
            "\n",
            "See the caveats in the documentation: http://pandas.pydata.org/pandas-docs/stable/user_guide/indexing.html#returning-a-view-versus-a-copy\n",
            "  self._setitem_with_indexer(indexer, value)\n"
          ],
          "name": "stderr"
        }
      ]
    },
    {
      "cell_type": "code",
      "metadata": {
        "id": "1nIc3VGcwfsL",
        "colab_type": "code",
        "outputId": "76cec857-c16d-4aaa-d975-f593581cb8b1",
        "colab": {
          "base_uri": "https://localhost:8080/",
          "height": 662
        }
      },
      "source": [
        "data.head(20)"
      ],
      "execution_count": 62,
      "outputs": [
        {
          "output_type": "execute_result",
          "data": {
            "text/html": [
              "<div>\n",
              "<style scoped>\n",
              "    .dataframe tbody tr th:only-of-type {\n",
              "        vertical-align: middle;\n",
              "    }\n",
              "\n",
              "    .dataframe tbody tr th {\n",
              "        vertical-align: top;\n",
              "    }\n",
              "\n",
              "    .dataframe thead th {\n",
              "        text-align: right;\n",
              "    }\n",
              "</style>\n",
              "<table border=\"1\" class=\"dataframe\">\n",
              "  <thead>\n",
              "    <tr style=\"text-align: right;\">\n",
              "      <th></th>\n",
              "      <th>Quarter</th>\n",
              "      <th>Sales</th>\n",
              "      <th>Year</th>\n",
              "      <th>Month</th>\n",
              "      <th>Day</th>\n",
              "    </tr>\n",
              "  </thead>\n",
              "  <tbody>\n",
              "    <tr>\n",
              "      <th>0</th>\n",
              "      <td>Q1_86</td>\n",
              "      <td>1734.827000</td>\n",
              "      <td>1986</td>\n",
              "      <td>3</td>\n",
              "      <td>31</td>\n",
              "    </tr>\n",
              "    <tr>\n",
              "      <th>1</th>\n",
              "      <td>Q2_86</td>\n",
              "      <td>2244.960999</td>\n",
              "      <td>1986</td>\n",
              "      <td>6</td>\n",
              "      <td>30</td>\n",
              "    </tr>\n",
              "    <tr>\n",
              "      <th>2</th>\n",
              "      <td>Q3_86</td>\n",
              "      <td>2533.804993</td>\n",
              "      <td>1986</td>\n",
              "      <td>9</td>\n",
              "      <td>30</td>\n",
              "    </tr>\n",
              "    <tr>\n",
              "      <th>3</th>\n",
              "      <td>Q4_86</td>\n",
              "      <td>2154.962997</td>\n",
              "      <td>1986</td>\n",
              "      <td>12</td>\n",
              "      <td>31</td>\n",
              "    </tr>\n",
              "    <tr>\n",
              "      <th>4</th>\n",
              "      <td>Q1_87</td>\n",
              "      <td>1547.818996</td>\n",
              "      <td>1987</td>\n",
              "      <td>3</td>\n",
              "      <td>31</td>\n",
              "    </tr>\n",
              "    <tr>\n",
              "      <th>5</th>\n",
              "      <td>Q2_87</td>\n",
              "      <td>2104.411995</td>\n",
              "      <td>1987</td>\n",
              "      <td>6</td>\n",
              "      <td>30</td>\n",
              "    </tr>\n",
              "    <tr>\n",
              "      <th>6</th>\n",
              "      <td>Q3_87</td>\n",
              "      <td>2014.362999</td>\n",
              "      <td>1987</td>\n",
              "      <td>9</td>\n",
              "      <td>30</td>\n",
              "    </tr>\n",
              "    <tr>\n",
              "      <th>7</th>\n",
              "      <td>Q4_87</td>\n",
              "      <td>1991.746998</td>\n",
              "      <td>1987</td>\n",
              "      <td>12</td>\n",
              "      <td>31</td>\n",
              "    </tr>\n",
              "    <tr>\n",
              "      <th>8</th>\n",
              "      <td>Q1_88</td>\n",
              "      <td>1869.049999</td>\n",
              "      <td>1988</td>\n",
              "      <td>3</td>\n",
              "      <td>31</td>\n",
              "    </tr>\n",
              "    <tr>\n",
              "      <th>9</th>\n",
              "      <td>Q2_88</td>\n",
              "      <td>2313.631996</td>\n",
              "      <td>1988</td>\n",
              "      <td>6</td>\n",
              "      <td>30</td>\n",
              "    </tr>\n",
              "    <tr>\n",
              "      <th>10</th>\n",
              "      <td>Q3_88</td>\n",
              "      <td>2128.320000</td>\n",
              "      <td>1988</td>\n",
              "      <td>9</td>\n",
              "      <td>30</td>\n",
              "    </tr>\n",
              "    <tr>\n",
              "      <th>11</th>\n",
              "      <td>Q4_88</td>\n",
              "      <td>2026.828999</td>\n",
              "      <td>1988</td>\n",
              "      <td>12</td>\n",
              "      <td>31</td>\n",
              "    </tr>\n",
              "    <tr>\n",
              "      <th>12</th>\n",
              "      <td>Q1_89</td>\n",
              "      <td>1910.603996</td>\n",
              "      <td>1989</td>\n",
              "      <td>3</td>\n",
              "      <td>31</td>\n",
              "    </tr>\n",
              "    <tr>\n",
              "      <th>13</th>\n",
              "      <td>Q2_89</td>\n",
              "      <td>2331.164993</td>\n",
              "      <td>1989</td>\n",
              "      <td>6</td>\n",
              "      <td>30</td>\n",
              "    </tr>\n",
              "    <tr>\n",
              "      <th>14</th>\n",
              "      <td>Q3_89</td>\n",
              "      <td>2206.549995</td>\n",
              "      <td>1989</td>\n",
              "      <td>9</td>\n",
              "      <td>30</td>\n",
              "    </tr>\n",
              "    <tr>\n",
              "      <th>15</th>\n",
              "      <td>Q4_89</td>\n",
              "      <td>2173.967995</td>\n",
              "      <td>1989</td>\n",
              "      <td>12</td>\n",
              "      <td>31</td>\n",
              "    </tr>\n",
              "    <tr>\n",
              "      <th>16</th>\n",
              "      <td>Q1_90</td>\n",
              "      <td>2148.278000</td>\n",
              "      <td>1990</td>\n",
              "      <td>3</td>\n",
              "      <td>31</td>\n",
              "    </tr>\n",
              "    <tr>\n",
              "      <th>17</th>\n",
              "      <td>Q2_90</td>\n",
              "      <td>2739.307999</td>\n",
              "      <td>1990</td>\n",
              "      <td>6</td>\n",
              "      <td>30</td>\n",
              "    </tr>\n",
              "    <tr>\n",
              "      <th>18</th>\n",
              "      <td>Q3_90</td>\n",
              "      <td>2792.753998</td>\n",
              "      <td>1990</td>\n",
              "      <td>9</td>\n",
              "      <td>30</td>\n",
              "    </tr>\n",
              "    <tr>\n",
              "      <th>19</th>\n",
              "      <td>Q4_90</td>\n",
              "      <td>2556.009995</td>\n",
              "      <td>1990</td>\n",
              "      <td>12</td>\n",
              "      <td>31</td>\n",
              "    </tr>\n",
              "  </tbody>\n",
              "</table>\n",
              "</div>"
            ],
            "text/plain": [
              "   Quarter        Sales  Year  Month  Day\n",
              "0    Q1_86  1734.827000  1986      3   31\n",
              "1    Q2_86  2244.960999  1986      6   30\n",
              "2    Q3_86  2533.804993  1986      9   30\n",
              "3    Q4_86  2154.962997  1986     12   31\n",
              "4    Q1_87  1547.818996  1987      3   31\n",
              "5    Q2_87  2104.411995  1987      6   30\n",
              "6    Q3_87  2014.362999  1987      9   30\n",
              "7    Q4_87  1991.746998  1987     12   31\n",
              "8    Q1_88  1869.049999  1988      3   31\n",
              "9    Q2_88  2313.631996  1988      6   30\n",
              "10   Q3_88  2128.320000  1988      9   30\n",
              "11   Q4_88  2026.828999  1988     12   31\n",
              "12   Q1_89  1910.603996  1989      3   31\n",
              "13   Q2_89  2331.164993  1989      6   30\n",
              "14   Q3_89  2206.549995  1989      9   30\n",
              "15   Q4_89  2173.967995  1989     12   31\n",
              "16   Q1_90  2148.278000  1990      3   31\n",
              "17   Q2_90  2739.307999  1990      6   30\n",
              "18   Q3_90  2792.753998  1990      9   30\n",
              "19   Q4_90  2556.009995  1990     12   31"
            ]
          },
          "metadata": {
            "tags": []
          },
          "execution_count": 62
        }
      ]
    },
    {
      "cell_type": "code",
      "metadata": {
        "id": "hY43xb4-ITFx",
        "colab_type": "code",
        "colab": {}
      },
      "source": [
        "data[\"Time\"] = pd.to_datetime(data[[\"Year\", \"Month\", \"Day\"]])\n",
        "data.drop(labels = [\"Quarter\",\"Year\", \"Month\", \"Day\"], axis = 1, inplace = True)"
      ],
      "execution_count": 0,
      "outputs": []
    },
    {
      "cell_type": "code",
      "metadata": {
        "id": "UniB92efLShj",
        "colab_type": "code",
        "outputId": "7a3d9838-275a-48b1-c755-7c2f03b408a7",
        "colab": {
          "base_uri": "https://localhost:8080/",
          "height": 202
        }
      },
      "source": [
        "data.head()"
      ],
      "execution_count": 64,
      "outputs": [
        {
          "output_type": "execute_result",
          "data": {
            "text/html": [
              "<div>\n",
              "<style scoped>\n",
              "    .dataframe tbody tr th:only-of-type {\n",
              "        vertical-align: middle;\n",
              "    }\n",
              "\n",
              "    .dataframe tbody tr th {\n",
              "        vertical-align: top;\n",
              "    }\n",
              "\n",
              "    .dataframe thead th {\n",
              "        text-align: right;\n",
              "    }\n",
              "</style>\n",
              "<table border=\"1\" class=\"dataframe\">\n",
              "  <thead>\n",
              "    <tr style=\"text-align: right;\">\n",
              "      <th></th>\n",
              "      <th>Sales</th>\n",
              "      <th>Time</th>\n",
              "    </tr>\n",
              "  </thead>\n",
              "  <tbody>\n",
              "    <tr>\n",
              "      <th>0</th>\n",
              "      <td>1734.827000</td>\n",
              "      <td>1986-03-31</td>\n",
              "    </tr>\n",
              "    <tr>\n",
              "      <th>1</th>\n",
              "      <td>2244.960999</td>\n",
              "      <td>1986-06-30</td>\n",
              "    </tr>\n",
              "    <tr>\n",
              "      <th>2</th>\n",
              "      <td>2533.804993</td>\n",
              "      <td>1986-09-30</td>\n",
              "    </tr>\n",
              "    <tr>\n",
              "      <th>3</th>\n",
              "      <td>2154.962997</td>\n",
              "      <td>1986-12-31</td>\n",
              "    </tr>\n",
              "    <tr>\n",
              "      <th>4</th>\n",
              "      <td>1547.818996</td>\n",
              "      <td>1987-03-31</td>\n",
              "    </tr>\n",
              "  </tbody>\n",
              "</table>\n",
              "</div>"
            ],
            "text/plain": [
              "         Sales       Time\n",
              "0  1734.827000 1986-03-31\n",
              "1  2244.960999 1986-06-30\n",
              "2  2533.804993 1986-09-30\n",
              "3  2154.962997 1986-12-31\n",
              "4  1547.818996 1987-03-31"
            ]
          },
          "metadata": {
            "tags": []
          },
          "execution_count": 64
        }
      ]
    },
    {
      "cell_type": "code",
      "metadata": {
        "id": "2MtnOvaiLerk",
        "colab_type": "code",
        "colab": {}
      },
      "source": [
        "data = data[[\"Time\", \"Sales\"]]"
      ],
      "execution_count": 0,
      "outputs": []
    },
    {
      "cell_type": "code",
      "metadata": {
        "id": "IkY6702OBXbD",
        "colab_type": "code",
        "outputId": "101652a5-794e-4567-fe6b-65fb6d728737",
        "colab": {
          "base_uri": "https://localhost:8080/",
          "height": 662
        }
      },
      "source": [
        "data.head(20)"
      ],
      "execution_count": 66,
      "outputs": [
        {
          "output_type": "execute_result",
          "data": {
            "text/html": [
              "<div>\n",
              "<style scoped>\n",
              "    .dataframe tbody tr th:only-of-type {\n",
              "        vertical-align: middle;\n",
              "    }\n",
              "\n",
              "    .dataframe tbody tr th {\n",
              "        vertical-align: top;\n",
              "    }\n",
              "\n",
              "    .dataframe thead th {\n",
              "        text-align: right;\n",
              "    }\n",
              "</style>\n",
              "<table border=\"1\" class=\"dataframe\">\n",
              "  <thead>\n",
              "    <tr style=\"text-align: right;\">\n",
              "      <th></th>\n",
              "      <th>Time</th>\n",
              "      <th>Sales</th>\n",
              "    </tr>\n",
              "  </thead>\n",
              "  <tbody>\n",
              "    <tr>\n",
              "      <th>0</th>\n",
              "      <td>1986-03-31</td>\n",
              "      <td>1734.827000</td>\n",
              "    </tr>\n",
              "    <tr>\n",
              "      <th>1</th>\n",
              "      <td>1986-06-30</td>\n",
              "      <td>2244.960999</td>\n",
              "    </tr>\n",
              "    <tr>\n",
              "      <th>2</th>\n",
              "      <td>1986-09-30</td>\n",
              "      <td>2533.804993</td>\n",
              "    </tr>\n",
              "    <tr>\n",
              "      <th>3</th>\n",
              "      <td>1986-12-31</td>\n",
              "      <td>2154.962997</td>\n",
              "    </tr>\n",
              "    <tr>\n",
              "      <th>4</th>\n",
              "      <td>1987-03-31</td>\n",
              "      <td>1547.818996</td>\n",
              "    </tr>\n",
              "    <tr>\n",
              "      <th>5</th>\n",
              "      <td>1987-06-30</td>\n",
              "      <td>2104.411995</td>\n",
              "    </tr>\n",
              "    <tr>\n",
              "      <th>6</th>\n",
              "      <td>1987-09-30</td>\n",
              "      <td>2014.362999</td>\n",
              "    </tr>\n",
              "    <tr>\n",
              "      <th>7</th>\n",
              "      <td>1987-12-31</td>\n",
              "      <td>1991.746998</td>\n",
              "    </tr>\n",
              "    <tr>\n",
              "      <th>8</th>\n",
              "      <td>1988-03-31</td>\n",
              "      <td>1869.049999</td>\n",
              "    </tr>\n",
              "    <tr>\n",
              "      <th>9</th>\n",
              "      <td>1988-06-30</td>\n",
              "      <td>2313.631996</td>\n",
              "    </tr>\n",
              "    <tr>\n",
              "      <th>10</th>\n",
              "      <td>1988-09-30</td>\n",
              "      <td>2128.320000</td>\n",
              "    </tr>\n",
              "    <tr>\n",
              "      <th>11</th>\n",
              "      <td>1988-12-31</td>\n",
              "      <td>2026.828999</td>\n",
              "    </tr>\n",
              "    <tr>\n",
              "      <th>12</th>\n",
              "      <td>1989-03-31</td>\n",
              "      <td>1910.603996</td>\n",
              "    </tr>\n",
              "    <tr>\n",
              "      <th>13</th>\n",
              "      <td>1989-06-30</td>\n",
              "      <td>2331.164993</td>\n",
              "    </tr>\n",
              "    <tr>\n",
              "      <th>14</th>\n",
              "      <td>1989-09-30</td>\n",
              "      <td>2206.549995</td>\n",
              "    </tr>\n",
              "    <tr>\n",
              "      <th>15</th>\n",
              "      <td>1989-12-31</td>\n",
              "      <td>2173.967995</td>\n",
              "    </tr>\n",
              "    <tr>\n",
              "      <th>16</th>\n",
              "      <td>1990-03-31</td>\n",
              "      <td>2148.278000</td>\n",
              "    </tr>\n",
              "    <tr>\n",
              "      <th>17</th>\n",
              "      <td>1990-06-30</td>\n",
              "      <td>2739.307999</td>\n",
              "    </tr>\n",
              "    <tr>\n",
              "      <th>18</th>\n",
              "      <td>1990-09-30</td>\n",
              "      <td>2792.753998</td>\n",
              "    </tr>\n",
              "    <tr>\n",
              "      <th>19</th>\n",
              "      <td>1990-12-31</td>\n",
              "      <td>2556.009995</td>\n",
              "    </tr>\n",
              "  </tbody>\n",
              "</table>\n",
              "</div>"
            ],
            "text/plain": [
              "         Time        Sales\n",
              "0  1986-03-31  1734.827000\n",
              "1  1986-06-30  2244.960999\n",
              "2  1986-09-30  2533.804993\n",
              "3  1986-12-31  2154.962997\n",
              "4  1987-03-31  1547.818996\n",
              "5  1987-06-30  2104.411995\n",
              "6  1987-09-30  2014.362999\n",
              "7  1987-12-31  1991.746998\n",
              "8  1988-03-31  1869.049999\n",
              "9  1988-06-30  2313.631996\n",
              "10 1988-09-30  2128.320000\n",
              "11 1988-12-31  2026.828999\n",
              "12 1989-03-31  1910.603996\n",
              "13 1989-06-30  2331.164993\n",
              "14 1989-09-30  2206.549995\n",
              "15 1989-12-31  2173.967995\n",
              "16 1990-03-31  2148.278000\n",
              "17 1990-06-30  2739.307999\n",
              "18 1990-09-30  2792.753998\n",
              "19 1990-12-31  2556.009995"
            ]
          },
          "metadata": {
            "tags": []
          },
          "execution_count": 66
        }
      ]
    },
    {
      "cell_type": "code",
      "metadata": {
        "id": "0pJjoRSfCO9f",
        "colab_type": "code",
        "colab": {}
      },
      "source": [
        "data.set_index([\"Time\"], inplace = True)"
      ],
      "execution_count": 0,
      "outputs": []
    },
    {
      "cell_type": "code",
      "metadata": {
        "id": "mWc9meSZEef5",
        "colab_type": "code",
        "colab": {}
      },
      "source": [
        ""
      ],
      "execution_count": 0,
      "outputs": []
    },
    {
      "cell_type": "code",
      "metadata": {
        "id": "F5PhZnPyCO8A",
        "colab_type": "code",
        "outputId": "d5b7c3d3-49a1-4188-a1f0-b18e64973e65",
        "colab": {
          "base_uri": "https://localhost:8080/",
          "height": 297
        }
      },
      "source": [
        "data[\"Sales\"].diff().diff().plot()"
      ],
      "execution_count": 68,
      "outputs": [
        {
          "output_type": "execute_result",
          "data": {
            "text/plain": [
              "<matplotlib.axes._subplots.AxesSubplot at 0x7f32335cbd30>"
            ]
          },
          "metadata": {
            "tags": []
          },
          "execution_count": 68
        },
        {
          "output_type": "display_data",
          "data": {
            "image/png": "[encoded data removed]",
            "text/plain": [
              "<Figure size 432x288 with 1 Axes>"
            ]
          },
          "metadata": {
            "tags": []
          }
        }
      ]
    },
    {
      "cell_type": "code",
      "metadata": {
        "id": "iHJB1OLrCO5s",
        "colab_type": "code",
        "colab": {}
      },
      "source": [
        "log_sales = np.log(data[\"Sales\"])\n",
        "squareroot_sales = np.sqrt(data[\"Sales\"])"
      ],
      "execution_count": 0,
      "outputs": []
    },
    {
      "cell_type": "code",
      "metadata": {
        "id": "Gp2tUqASFyoh",
        "colab_type": "code",
        "colab": {}
      },
      "source": [
        "data[\"Log_Sales\"] = log_sales\n",
        "data[\"Sqrt_Sales\"] = squareroot_sales"
      ],
      "execution_count": 0,
      "outputs": []
    },
    {
      "cell_type": "code",
      "metadata": {
        "id": "CXlaFFc0COtD",
        "colab_type": "code",
        "outputId": "a2e446c7-3b99-40ef-f785-886992c0c6d2",
        "colab": {
          "base_uri": "https://localhost:8080/",
          "height": 297
        }
      },
      "source": [
        "data[\"Log_Sales\"].diff().diff().diff().plot(y = [\"Sqrt_Sales\"])"
      ],
      "execution_count": 71,
      "outputs": [
        {
          "output_type": "execute_result",
          "data": {
            "text/plain": [
              "<matplotlib.axes._subplots.AxesSubplot at 0x7f32336b2978>"
            ]
          },
          "metadata": {
            "tags": []
          },
          "execution_count": 71
        },
        {
          "output_type": "display_data",
          "data": {
            "image/png": "[encoded data removed]",
            "text/plain": [
              "<Figure size 432x288 with 1 Axes>"
            ]
          },
          "metadata": {
            "tags": []
          }
        }
      ]
    },
    {
      "cell_type": "code",
      "metadata": {
        "id": "NEzzANF1-SSJ",
        "colab_type": "code",
        "colab": {}
      },
      "source": [
        ""
      ],
      "execution_count": 0,
      "outputs": []
    },
    {
      "cell_type": "code",
      "metadata": {
        "id": "V-K0YlaQMyx9",
        "colab_type": "code",
        "outputId": "31d844bb-69e1-458e-ef69-827a3e252ccc",
        "colab": {
          "base_uri": "https://localhost:8080/",
          "height": 297
        }
      },
      "source": [
        "data[\"Sqrt_Sales\"].diff().diff().diff().plot(y = [\"Sqrt_Sales\"])"
      ],
      "execution_count": 72,
      "outputs": [
        {
          "output_type": "execute_result",
          "data": {
            "text/plain": [
              "<matplotlib.axes._subplots.AxesSubplot at 0x7f3231437cf8>"
            ]
          },
          "metadata": {
            "tags": []
          },
          "execution_count": 72
        },
        {
          "output_type": "display_data",
          "data": {
            "image/png": "[encoded data removed]",
            "text/plain": [
              "<Figure size 432x288 with 1 Axes>"
            ]
          },
          "metadata": {
            "tags": []
          }
        }
      ]
    },
    {
      "cell_type": "code",
      "metadata": {
        "id": "Ee3wrn_NONrs",
        "colab_type": "code",
        "colab": {}
      },
      "source": [
        "from statsmodels.graphics.tsaplots import plot_acf, plot_pacf"
      ],
      "execution_count": 0,
      "outputs": []
    },
    {
      "cell_type": "code",
      "metadata": {
        "id": "9cIkVhC_ONpr",
        "colab_type": "code",
        "outputId": "3c7bca8a-271d-4317-a4e8-fe00a6019f8d",
        "colab": {
          "base_uri": "https://localhost:8080/",
          "height": 545
        }
      },
      "source": [
        "plot_acf(x = data[\"Log_Sales\"])"
      ],
      "execution_count": 74,
      "outputs": [
        {
          "output_type": "execute_result",
          "data": {
            "image/png": "[encoded data removed]",
            "text/plain": [
              "<Figure size 432x288 with 1 Axes>"
            ]
          },
          "metadata": {
            "tags": []
          },
          "execution_count": 74
        },
        {
          "output_type": "display_data",
          "data": {
            "image/png": "[encoded data removed]",
            "text/plain": [
              "<Figure size 432x288 with 1 Axes>"
            ]
          },
          "metadata": {
            "tags": []
          }
        }
      ]
    },
    {
      "cell_type": "code",
      "metadata": {
        "id": "9flGX0ymPLsk",
        "colab_type": "code",
        "outputId": "a37e504f-c0ce-40b7-9e25-918ceabba39b",
        "colab": {
          "base_uri": "https://localhost:8080/",
          "height": 545
        }
      },
      "source": [
        "plot_pacf(x = data[\"Log_Sales\"])"
      ],
      "execution_count": 75,
      "outputs": [
        {
          "output_type": "execute_result",
          "data": {
            "image/png": "[encoded data removed]",
            "text/plain": [
              "<Figure size 432x288 with 1 Axes>"
            ]
          },
          "metadata": {
            "tags": []
          },
          "execution_count": 75
        },
        {
          "output_type": "display_data",
          "data": {
            "image/png": "[encoded data removed]",
            "text/plain": [
              "<Figure size 432x288 with 1 Axes>"
            ]
          },
          "metadata": {
            "tags": []
          }
        }
      ]
    },
    {
      "cell_type": "code",
      "metadata": {
        "id": "ZsouSa9VONnS",
        "colab_type": "code",
        "colab": {}
      },
      "source": [
        "#Q -  5, p = 2, d - 0 to 2"
      ],
      "execution_count": 0,
      "outputs": []
    },
    {
      "cell_type": "code",
      "metadata": {
        "id": "nrp38SIwC-_g",
        "colab_type": "code",
        "colab": {}
      },
      "source": [
        ""
      ],
      "execution_count": 0,
      "outputs": []
    },
    {
      "cell_type": "code",
      "metadata": {
        "id": "XPJe2G9q5ACS",
        "colab_type": "code",
        "colab": {}
      },
      "source": [
        "#Dickey Fuller Test for data[\"Log_Sales_3_back\"]\n",
        "data[\"Log_Sales_3_back\"] = data[\"Log_Sales\"].diff().diff().diff()\n",
        "data[\"Log_Sales_3_back\"].dropna(inplace = True)\n",
        "\n",
        "ADF = adfuller(data[\"Log_Sales_3_back\"])"
      ],
      "execution_count": 0,
      "outputs": []
    },
    {
      "cell_type": "code",
      "metadata": {
        "id": "QpOgVPU5CB44",
        "colab_type": "code",
        "colab": {}
      },
      "source": [
        "#Null Hypothesis - The given Series is Non Stationary\n",
        "#Alternate Hypothesis -  The given Series is Stationary."
      ],
      "execution_count": 0,
      "outputs": []
    },
    {
      "cell_type": "code",
      "metadata": {
        "id": "twK3GNgE83yg",
        "colab_type": "code",
        "outputId": "eb3387c5-d2fe-49b6-cbee-e6ea959e8a9f",
        "colab": {
          "base_uri": "https://localhost:8080/",
          "height": 156
        }
      },
      "source": [
        "ADF"
      ],
      "execution_count": 79,
      "outputs": [
        {
          "output_type": "execute_result",
          "data": {
            "text/plain": [
              "(-7.851430697837628,\n",
              " 5.587635443210607e-12,\n",
              " 3,\n",
              " 35,\n",
              " {'1%': -3.6327426647230316,\n",
              "  '10%': -2.6130173469387756,\n",
              "  '5%': -2.9485102040816327},\n",
              " -83.90595919125009)"
            ]
          },
          "metadata": {
            "tags": []
          },
          "execution_count": 79
        }
      ]
    },
    {
      "cell_type": "code",
      "metadata": {
        "id": "v6eH5SfY4_7b",
        "colab_type": "code",
        "outputId": "b48bd63e-f358-4895-ab4d-bb652f959809",
        "colab": {
          "base_uri": "https://localhost:8080/",
          "height": 121
        }
      },
      "source": [
        "print(\"ADF Statistic:\", ADF[0])\n",
        "print(\"P- Value:\", ADF[1])\n",
        "print(\"Critical Values:\")\n",
        "print(\"\\t 5% :\", ADF[4][\"5%\"])\n",
        "print(\"\\t 1% :\", ADF[4][\"1%\"])\n",
        "print(\"\\t 10% :\", ADF[4][\"10%\"])\n",
        "\n",
        "#Since the P value is less than 0.05 and ADF Statistic is lesser than 1% Critical Value, We can reject the Null Hypothesis\n",
        "#and accept the Alternate Hypothesis."
      ],
      "execution_count": 80,
      "outputs": [
        {
          "output_type": "stream",
          "text": [
            "ADF Statistic: -7.851430697837628\n",
            "P- Value: 5.587635443210607e-12\n",
            "Critical Values:\n",
            "\t 5% : -2.9485102040816327\n",
            "\t 1% : -3.6327426647230316\n",
            "\t 10% : -2.6130173469387756\n"
          ],
          "name": "stdout"
        }
      ]
    },
    {
      "cell_type": "code",
      "metadata": {
        "id": "PDRcPVgP2Tav",
        "colab_type": "code",
        "colab": {}
      },
      "source": [
        ""
      ],
      "execution_count": 0,
      "outputs": []
    },
    {
      "cell_type": "code",
      "metadata": {
        "id": "KLq78L5bONjU",
        "colab_type": "code",
        "colab": {}
      },
      "source": [
        "data.head()\n",
        "data.dropna(inplace = True)"
      ],
      "execution_count": 0,
      "outputs": []
    },
    {
      "cell_type": "code",
      "metadata": {
        "id": "6tZhJr-b3Klp",
        "colab_type": "code",
        "outputId": "bb3d28c1-9fed-4a5d-b9b0-2d09632112d8",
        "colab": {
          "base_uri": "https://localhost:8080/",
          "height": 233
        }
      },
      "source": [
        "data.head()"
      ],
      "execution_count": 82,
      "outputs": [
        {
          "output_type": "execute_result",
          "data": {
            "text/html": [
              "<div>\n",
              "<style scoped>\n",
              "    .dataframe tbody tr th:only-of-type {\n",
              "        vertical-align: middle;\n",
              "    }\n",
              "\n",
              "    .dataframe tbody tr th {\n",
              "        vertical-align: top;\n",
              "    }\n",
              "\n",
              "    .dataframe thead th {\n",
              "        text-align: right;\n",
              "    }\n",
              "</style>\n",
              "<table border=\"1\" class=\"dataframe\">\n",
              "  <thead>\n",
              "    <tr style=\"text-align: right;\">\n",
              "      <th></th>\n",
              "      <th>Sales</th>\n",
              "      <th>Log_Sales</th>\n",
              "      <th>Sqrt_Sales</th>\n",
              "      <th>Log_Sales_3_back</th>\n",
              "    </tr>\n",
              "    <tr>\n",
              "      <th>Time</th>\n",
              "      <th></th>\n",
              "      <th></th>\n",
              "      <th></th>\n",
              "      <th></th>\n",
              "    </tr>\n",
              "  </thead>\n",
              "  <tbody>\n",
              "    <tr>\n",
              "      <th>1986-12-31</th>\n",
              "      <td>2154.962997</td>\n",
              "      <td>7.675529</td>\n",
              "      <td>46.421579</td>\n",
              "      <td>-0.146236</td>\n",
              "    </tr>\n",
              "    <tr>\n",
              "      <th>1987-03-31</th>\n",
              "      <td>1547.818996</td>\n",
              "      <td>7.344602</td>\n",
              "      <td>39.342331</td>\n",
              "      <td>0.114004</td>\n",
              "    </tr>\n",
              "    <tr>\n",
              "      <th>1987-06-30</th>\n",
              "      <td>2104.411995</td>\n",
              "      <td>7.651791</td>\n",
              "      <td>45.873871</td>\n",
              "      <td>0.807094</td>\n",
              "    </tr>\n",
              "    <tr>\n",
              "      <th>1987-09-30</th>\n",
              "      <td>2014.362999</td>\n",
              "      <td>7.608058</td>\n",
              "      <td>44.881655</td>\n",
              "      <td>-0.989038</td>\n",
              "    </tr>\n",
              "    <tr>\n",
              "      <th>1987-12-31</th>\n",
              "      <td>1991.746998</td>\n",
              "      <td>7.596767</td>\n",
              "      <td>44.628993</td>\n",
              "      <td>0.383365</td>\n",
              "    </tr>\n",
              "  </tbody>\n",
              "</table>\n",
              "</div>"
            ],
            "text/plain": [
              "                  Sales  Log_Sales  Sqrt_Sales  Log_Sales_3_back\n",
              "Time                                                            \n",
              "1986-12-31  2154.962997   7.675529   46.421579         -0.146236\n",
              "1987-03-31  1547.818996   7.344602   39.342331          0.114004\n",
              "1987-06-30  2104.411995   7.651791   45.873871          0.807094\n",
              "1987-09-30  2014.362999   7.608058   44.881655         -0.989038\n",
              "1987-12-31  1991.746998   7.596767   44.628993          0.383365"
            ]
          },
          "metadata": {
            "tags": []
          },
          "execution_count": 82
        }
      ]
    },
    {
      "cell_type": "code",
      "metadata": {
        "id": "kEFgX1xc3Nej",
        "colab_type": "code",
        "colab": {}
      },
      "source": [
        "#Train_Test Split\n",
        "data_train = data.iloc[0:round(len(data) * 0.75)+1]\n",
        "data_test = data.iloc[30: len(data)-1]"
      ],
      "execution_count": 0,
      "outputs": []
    },
    {
      "cell_type": "code",
      "metadata": {
        "id": "AvmT8LVE30Hm",
        "colab_type": "code",
        "outputId": "27e347d3-da1f-4965-bb3c-cd28a482505f",
        "colab": {
          "base_uri": "https://localhost:8080/",
          "height": 233
        }
      },
      "source": [
        "data_train.head()"
      ],
      "execution_count": 84,
      "outputs": [
        {
          "output_type": "execute_result",
          "data": {
            "text/html": [
              "<div>\n",
              "<style scoped>\n",
              "    .dataframe tbody tr th:only-of-type {\n",
              "        vertical-align: middle;\n",
              "    }\n",
              "\n",
              "    .dataframe tbody tr th {\n",
              "        vertical-align: top;\n",
              "    }\n",
              "\n",
              "    .dataframe thead th {\n",
              "        text-align: right;\n",
              "    }\n",
              "</style>\n",
              "<table border=\"1\" class=\"dataframe\">\n",
              "  <thead>\n",
              "    <tr style=\"text-align: right;\">\n",
              "      <th></th>\n",
              "      <th>Sales</th>\n",
              "      <th>Log_Sales</th>\n",
              "      <th>Sqrt_Sales</th>\n",
              "      <th>Log_Sales_3_back</th>\n",
              "    </tr>\n",
              "    <tr>\n",
              "      <th>Time</th>\n",
              "      <th></th>\n",
              "      <th></th>\n",
              "      <th></th>\n",
              "      <th></th>\n",
              "    </tr>\n",
              "  </thead>\n",
              "  <tbody>\n",
              "    <tr>\n",
              "      <th>1986-12-31</th>\n",
              "      <td>2154.962997</td>\n",
              "      <td>7.675529</td>\n",
              "      <td>46.421579</td>\n",
              "      <td>-0.146236</td>\n",
              "    </tr>\n",
              "    <tr>\n",
              "      <th>1987-03-31</th>\n",
              "      <td>1547.818996</td>\n",
              "      <td>7.344602</td>\n",
              "      <td>39.342331</td>\n",
              "      <td>0.114004</td>\n",
              "    </tr>\n",
              "    <tr>\n",
              "      <th>1987-06-30</th>\n",
              "      <td>2104.411995</td>\n",
              "      <td>7.651791</td>\n",
              "      <td>45.873871</td>\n",
              "      <td>0.807094</td>\n",
              "    </tr>\n",
              "    <tr>\n",
              "      <th>1987-09-30</th>\n",
              "      <td>2014.362999</td>\n",
              "      <td>7.608058</td>\n",
              "      <td>44.881655</td>\n",
              "      <td>-0.989038</td>\n",
              "    </tr>\n",
              "    <tr>\n",
              "      <th>1987-12-31</th>\n",
              "      <td>1991.746998</td>\n",
              "      <td>7.596767</td>\n",
              "      <td>44.628993</td>\n",
              "      <td>0.383365</td>\n",
              "    </tr>\n",
              "  </tbody>\n",
              "</table>\n",
              "</div>"
            ],
            "text/plain": [
              "                  Sales  Log_Sales  Sqrt_Sales  Log_Sales_3_back\n",
              "Time                                                            \n",
              "1986-12-31  2154.962997   7.675529   46.421579         -0.146236\n",
              "1987-03-31  1547.818996   7.344602   39.342331          0.114004\n",
              "1987-06-30  2104.411995   7.651791   45.873871          0.807094\n",
              "1987-09-30  2014.362999   7.608058   44.881655         -0.989038\n",
              "1987-12-31  1991.746998   7.596767   44.628993          0.383365"
            ]
          },
          "metadata": {
            "tags": []
          },
          "execution_count": 84
        }
      ]
    },
    {
      "cell_type": "code",
      "metadata": {
        "id": "3-njC1lMONe9",
        "colab_type": "code",
        "outputId": "4cceaa78-be55-4c8f-8934-a3ce81db7881",
        "colab": {
          "base_uri": "https://localhost:8080/",
          "height": 72
        }
      },
      "source": [
        "#ARIMA Modelling\n",
        "\n",
        "ar = ARIMA(data_train[\"Log_Sales_3_back\"], order = (2,0,2))\n",
        "ar_model = ar.fit()\n"
      ],
      "execution_count": 85,
      "outputs": [
        {
          "output_type": "stream",
          "text": [
            "/usr/local/lib/python3.6/dist-packages/statsmodels/tsa/base/tsa_model.py:165: ValueWarning: No frequency information was provided, so inferred frequency Q-DEC will be used.\n",
            "  % freq, ValueWarning)\n"
          ],
          "name": "stderr"
        }
      ]
    },
    {
      "cell_type": "code",
      "metadata": {
        "id": "7IKFVeTsONZ9",
        "colab_type": "code",
        "outputId": "e1658aaa-7d5b-4e8d-88b3-886c0cc75661",
        "colab": {
          "base_uri": "https://localhost:8080/",
          "height": 430
        }
      },
      "source": [
        "ar_model.summary()"
      ],
      "execution_count": 86,
      "outputs": [
        {
          "output_type": "execute_result",
          "data": {
            "text/html": [
              "<table class=\"simpletable\">\n",
              "<caption>ARMA Model Results</caption>\n",
              "<tr>\n",
              "  <th>Dep. Variable:</th> <td>Log_Sales_3_back</td> <th>  No. Observations:  </th>   <td>30</td>   \n",
              "</tr>\n",
              "<tr>\n",
              "  <th>Model:</th>            <td>ARMA(2, 2)</td>    <th>  Log Likelihood     </th> <td>13.988</td> \n",
              "</tr>\n",
              "<tr>\n",
              "  <th>Method:</th>             <td>css-mle</td>     <th>  S.D. of innovations</th>  <td>0.124</td> \n",
              "</tr>\n",
              "<tr>\n",
              "  <th>Date:</th>          <td>Tue, 03 Mar 2020</td> <th>  AIC                </th> <td>-15.976</td>\n",
              "</tr>\n",
              "<tr>\n",
              "  <th>Time:</th>              <td>06:25:38</td>     <th>  BIC                </th> <td>-7.568</td> \n",
              "</tr>\n",
              "<tr>\n",
              "  <th>Sample:</th>           <td>12-31-1986</td>    <th>  HQIC               </th> <td>-13.286</td>\n",
              "</tr>\n",
              "<tr>\n",
              "  <th></th>                 <td>- 03-31-1994</td>   <th>                     </th>    <td> </td>   \n",
              "</tr>\n",
              "</table>\n",
              "<table class=\"simpletable\">\n",
              "<tr>\n",
              "             <td></td>               <th>coef</th>     <th>std err</th>      <th>z</th>      <th>P>|z|</th>  <th>[0.025</th>    <th>0.975]</th>  \n",
              "</tr>\n",
              "<tr>\n",
              "  <th>const</th>                  <td>   -0.0004</td> <td>    0.000</td> <td>   -1.089</td> <td> 0.287</td> <td>   -0.001</td> <td>    0.000</td>\n",
              "</tr>\n",
              "<tr>\n",
              "  <th>ar.L1.Log_Sales_3_back</th> <td>   -0.3525</td> <td>    0.167</td> <td>   -2.108</td> <td> 0.045</td> <td>   -0.680</td> <td>   -0.025</td>\n",
              "</tr>\n",
              "<tr>\n",
              "  <th>ar.L2.Log_Sales_3_back</th> <td>   -0.5529</td> <td>    0.162</td> <td>   -3.404</td> <td> 0.002</td> <td>   -0.871</td> <td>   -0.235</td>\n",
              "</tr>\n",
              "<tr>\n",
              "  <th>ma.L1.Log_Sales_3_back</th> <td>   -1.9723</td> <td>    0.137</td> <td>  -14.353</td> <td> 0.000</td> <td>   -2.242</td> <td>   -1.703</td>\n",
              "</tr>\n",
              "<tr>\n",
              "  <th>ma.L2.Log_Sales_3_back</th> <td>    0.9987</td> <td>    0.134</td> <td>    7.446</td> <td> 0.000</td> <td>    0.736</td> <td>    1.262</td>\n",
              "</tr>\n",
              "</table>\n",
              "<table class=\"simpletable\">\n",
              "<caption>Roots</caption>\n",
              "<tr>\n",
              "    <td></td>   <th>            Real</th>  <th>         Imaginary</th> <th>         Modulus</th>  <th>        Frequency</th>\n",
              "</tr>\n",
              "<tr>\n",
              "  <th>AR.1</th> <td>          -0.3188</td> <td>          -1.3065j</td> <td>           1.3448</td> <td>          -0.2881</td>\n",
              "</tr>\n",
              "<tr>\n",
              "  <th>AR.2</th> <td>          -0.3188</td> <td>          +1.3065j</td> <td>           1.3448</td> <td>           0.2881</td>\n",
              "</tr>\n",
              "<tr>\n",
              "  <th>MA.1</th> <td>           0.9874</td> <td>          -0.1623j</td> <td>           1.0006</td> <td>          -0.0259</td>\n",
              "</tr>\n",
              "<tr>\n",
              "  <th>MA.2</th> <td>           0.9874</td> <td>          +0.1623j</td> <td>           1.0006</td> <td>           0.0259</td>\n",
              "</tr>\n",
              "</table>"
            ],
            "text/plain": [
              "<class 'statsmodels.iolib.summary.Summary'>\n",
              "\"\"\"\n",
              "                              ARMA Model Results                              \n",
              "==============================================================================\n",
              "Dep. Variable:       Log_Sales_3_back   No. Observations:                   30\n",
              "Model:                     ARMA(2, 2)   Log Likelihood                  13.988\n",
              "Method:                       css-mle   S.D. of innovations              0.124\n",
              "Date:                Tue, 03 Mar 2020   AIC                            -15.976\n",
              "Time:                        06:25:38   BIC                             -7.568\n",
              "Sample:                    12-31-1986   HQIC                           -13.286\n",
              "                         - 03-31-1994                                         \n",
              "==========================================================================================\n",
              "                             coef    std err          z      P>|z|      [0.025      0.975]\n",
              "------------------------------------------------------------------------------------------\n",
              "const                     -0.0004      0.000     -1.089      0.287      -0.001       0.000\n",
              "ar.L1.Log_Sales_3_back    -0.3525      0.167     -2.108      0.045      -0.680      -0.025\n",
              "ar.L2.Log_Sales_3_back    -0.5529      0.162     -3.404      0.002      -0.871      -0.235\n",
              "ma.L1.Log_Sales_3_back    -1.9723      0.137    -14.353      0.000      -2.242      -1.703\n",
              "ma.L2.Log_Sales_3_back     0.9987      0.134      7.446      0.000       0.736       1.262\n",
              "                                    Roots                                    \n",
              "=============================================================================\n",
              "                  Real          Imaginary           Modulus         Frequency\n",
              "-----------------------------------------------------------------------------\n",
              "AR.1           -0.3188           -1.3065j            1.3448           -0.2881\n",
              "AR.2           -0.3188           +1.3065j            1.3448            0.2881\n",
              "MA.1            0.9874           -0.1623j            1.0006           -0.0259\n",
              "MA.2            0.9874           +0.1623j            1.0006            0.0259\n",
              "-----------------------------------------------------------------------------\n",
              "\"\"\""
            ]
          },
          "metadata": {
            "tags": []
          },
          "execution_count": 86
        }
      ]
    },
    {
      "cell_type": "code",
      "metadata": {
        "id": "x_kspjDcYHsy",
        "colab_type": "code",
        "outputId": "b33e0e9c-8f56-43af-c267-2a02b3403ca3",
        "colab": {
          "base_uri": "https://localhost:8080/",
          "height": 35
        }
      },
      "source": [
        "#Calculating MSE\n",
        "ar_predict = ar_model.forecast(steps = 8)[0]  #Predicting for next 8 periods.\n",
        "mse = (((ar_predict - data_test[\"Log_Sales_3_back\"])**2).sum())/8\n",
        "\n",
        "print(\"Mean Squared Error: \", mse)"
      ],
      "execution_count": 87,
      "outputs": [
        {
          "output_type": "stream",
          "text": [
            "Mean Squared Error:  0.07575210233415446\n"
          ],
          "name": "stdout"
        }
      ]
    },
    {
      "cell_type": "code",
      "metadata": {
        "id": "qlQgfOk-YHxI",
        "colab_type": "code",
        "colab": {}
      },
      "source": [
        ""
      ],
      "execution_count": 0,
      "outputs": []
    },
    {
      "cell_type": "code",
      "metadata": {
        "id": "sa4iOmT1YHp1",
        "colab_type": "code",
        "colab": {}
      },
      "source": [
        ""
      ],
      "execution_count": 0,
      "outputs": []
    },
    {
      "cell_type": "code",
      "metadata": {
        "id": "9IiyLKq8AELZ",
        "colab_type": "code",
        "colab": {}
      },
      "source": [
        ""
      ],
      "execution_count": 0,
      "outputs": []
    }
  ]
}