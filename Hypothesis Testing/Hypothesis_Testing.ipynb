{
  "nbformat": 4,
  "nbformat_minor": 0,
  "metadata": {
    "colab": {
      "name": "ER_Hypothesis_Testing.ipynb",
      "provenance": [],
      "collapsed_sections": []
    },
    "kernelspec": {
      "name": "python3",
      "display_name": "Python 3"
    },
    "accelerator": "GPU"
  },
  "cells": [
    {
      "cell_type": "code",
      "metadata": {
        "id": "_0kWwm9oPPD2",
        "colab_type": "code",
        "colab": {}
      },
      "source": [
        ""
      ],
      "execution_count": 0,
      "outputs": []
    },
    {
      "cell_type": "code",
      "metadata": {
        "id": "D_FkC4Vr8Zfb",
        "colab_type": "code",
        "colab": {}
      },
      "source": [
        "import numpy as np\n",
        "import pandas as pd\n",
        "import scipy as sc\n",
        "import matplotlib.pyplot as plt\n",
        "import seaborn as sns\n",
        "from sklearn.model_selection import train_test_split\n",
        "from sklearn.naive_bayes import GaussianNB\n",
        "from sklearn.preprocessing import MinMaxScaler\n",
        "from sklearn.metrics import confusion_matrix\n",
        "from sklearn.preprocessing import StandardScaler\n",
        "from sklearn.metrics import accuracy_score\n",
        "from sklearn.utils import resample\n",
        "\n",
        "from sklearn.linear_model import LinearRegression\n",
        "from sklearn.metrics import r2_score\n",
        "\n",
        "from statsmodels.tsa.stattools import adfuller\n",
        "from statsmodels.tsa.arima_model import ARIMA\n",
        "\n",
        "import math\n",
        "\n",
        "from statistics import variance\n",
        "from scipy.stats import anderson\n",
        "\n",
        "from statsmodels.graphics.gofplots import qqplot\n",
        "from scipy.stats import ttest_ind\n",
        "\n",
        "from scipy.stats import f_oneway\n",
        "\n",
        "from scipy.stats import chi2_contingency"
      ],
      "execution_count": 0,
      "outputs": []
    },
    {
      "cell_type": "code",
      "metadata": {
        "id": "zyrYu8L-cQdH",
        "colab_type": "code",
        "outputId": "7fcf7d3c-cd5c-4031-eeda-746ad1e99157",
        "colab": {
          "base_uri": "https://localhost:8080/",
          "height": 35
        }
      },
      "source": [
        "#--------------------Run this cell to mount your Google Drive-------------------\n",
        "from google.colab import drive\n",
        "drive.mount('/content/drive')"
      ],
      "execution_count": 0,
      "outputs": [
        {
          "output_type": "stream",
          "text": [
            "Drive already mounted at /content/drive; to attempt to forcibly remount, call drive.mount(\"/content/drive\", force_remount=True).\n"
          ],
          "name": "stdout"
        }
      ]
    },
    {
      "cell_type": "code",
      "metadata": {
        "id": "GbUiRyUdcW6v",
        "colab_type": "code",
        "colab": {}
      },
      "source": [
        "#Cutlets.csv\n",
        "\n",
        "#Reading the file from Google Drive\n",
        "\n",
        "data = pd.read_csv(\"/content/drive/My Drive/ER/Hypothesis Testing/Cutlets.csv\")\n",
        "#data_x = data.drop(labels = [\"y\"], axis = 1)\n",
        "#data_y = data[\"y\"]"
      ],
      "execution_count": 0,
      "outputs": []
    },
    {
      "cell_type": "code",
      "metadata": {
        "id": "5CRy22oIaAdq",
        "colab_type": "code",
        "colab": {}
      },
      "source": [
        "sns.set_style(style = \"whitegrid\")"
      ],
      "execution_count": 0,
      "outputs": []
    },
    {
      "cell_type": "code",
      "metadata": {
        "id": "x4mbfHp0iPKm",
        "colab_type": "code",
        "outputId": "bfdf8543-1e05-4766-bd24-7bb1740ac9ad",
        "colab": {
          "base_uri": "https://localhost:8080/",
          "height": 35
        }
      },
      "source": [
        "len(data)"
      ],
      "execution_count": 0,
      "outputs": [
        {
          "output_type": "execute_result",
          "data": {
            "text/plain": [
              "35"
            ]
          },
          "metadata": {
            "tags": []
          },
          "execution_count": 95
        }
      ]
    },
    {
      "cell_type": "code",
      "metadata": {
        "id": "vbVlInz3oKvF",
        "colab_type": "code",
        "outputId": "3e5cfc64-7761-4953-d411-1bb82b94041d",
        "colab": {
          "base_uri": "https://localhost:8080/",
          "height": 202
        }
      },
      "source": [
        "data.head()"
      ],
      "execution_count": 0,
      "outputs": [
        {
          "output_type": "execute_result",
          "data": {
            "text/html": [
              "<div>\n",
              "<style scoped>\n",
              "    .dataframe tbody tr th:only-of-type {\n",
              "        vertical-align: middle;\n",
              "    }\n",
              "\n",
              "    .dataframe tbody tr th {\n",
              "        vertical-align: top;\n",
              "    }\n",
              "\n",
              "    .dataframe thead th {\n",
              "        text-align: right;\n",
              "    }\n",
              "</style>\n",
              "<table border=\"1\" class=\"dataframe\">\n",
              "  <thead>\n",
              "    <tr style=\"text-align: right;\">\n",
              "      <th></th>\n",
              "      <th>Unit A</th>\n",
              "      <th>Unit B</th>\n",
              "    </tr>\n",
              "  </thead>\n",
              "  <tbody>\n",
              "    <tr>\n",
              "      <th>0</th>\n",
              "      <td>6.8090</td>\n",
              "      <td>6.7703</td>\n",
              "    </tr>\n",
              "    <tr>\n",
              "      <th>1</th>\n",
              "      <td>6.4376</td>\n",
              "      <td>7.5093</td>\n",
              "    </tr>\n",
              "    <tr>\n",
              "      <th>2</th>\n",
              "      <td>6.9157</td>\n",
              "      <td>6.7300</td>\n",
              "    </tr>\n",
              "    <tr>\n",
              "      <th>3</th>\n",
              "      <td>7.3012</td>\n",
              "      <td>6.7878</td>\n",
              "    </tr>\n",
              "    <tr>\n",
              "      <th>4</th>\n",
              "      <td>7.4488</td>\n",
              "      <td>7.1522</td>\n",
              "    </tr>\n",
              "  </tbody>\n",
              "</table>\n",
              "</div>"
            ],
            "text/plain": [
              "   Unit A  Unit B\n",
              "0  6.8090  6.7703\n",
              "1  6.4376  7.5093\n",
              "2  6.9157  6.7300\n",
              "3  7.3012  6.7878\n",
              "4  7.4488  7.1522"
            ]
          },
          "metadata": {
            "tags": []
          },
          "execution_count": 96
        }
      ]
    },
    {
      "cell_type": "code",
      "metadata": {
        "id": "-La_LvReoKx5",
        "colab_type": "code",
        "outputId": "dcc5f124-be88-4921-f0f7-0192c1396b8c",
        "colab": {
          "base_uri": "https://localhost:8080/",
          "height": 69
        }
      },
      "source": [
        "data.mean()"
      ],
      "execution_count": 0,
      "outputs": [
        {
          "output_type": "execute_result",
          "data": {
            "text/plain": [
              "Unit A    7.019091\n",
              "Unit B    6.964297\n",
              "dtype: float64"
            ]
          },
          "metadata": {
            "tags": []
          },
          "execution_count": 97
        }
      ]
    },
    {
      "cell_type": "code",
      "metadata": {
        "id": "s25-xVkaoK2l",
        "colab_type": "code",
        "colab": {}
      },
      "source": [
        "#Significance Level - 5%\n",
        "#Null Hypothesis - Mean of Unit A and Unit B is same. mu(A) = mu(B)\n",
        "#Alternate Hypothesis - Mean of Unit A and Unit B is not same. mu(A) != mu(B)"
      ],
      "execution_count": 0,
      "outputs": []
    },
    {
      "cell_type": "code",
      "metadata": {
        "id": "QGC1uDpHoK5c",
        "colab_type": "code",
        "colab": {}
      },
      "source": [
        "#Mean\n",
        "mean_A = data[\"Unit A\"].mean()\n",
        "mean_B = data[\"Unit B\"].mean()"
      ],
      "execution_count": 0,
      "outputs": []
    },
    {
      "cell_type": "code",
      "metadata": {
        "id": "rEdgEDXIoK8K",
        "colab_type": "code",
        "colab": {}
      },
      "source": [
        "#Variance\n",
        "var_A = variance(data[\"Unit A\"])\n",
        "var_B = variance(data[\"Unit B\"])"
      ],
      "execution_count": 0,
      "outputs": []
    },
    {
      "cell_type": "code",
      "metadata": {
        "id": "XtmoFpp0ENnp",
        "colab_type": "code",
        "outputId": "d406e0f9-6965-46f1-a011-53343f3cd468",
        "colab": {
          "base_uri": "https://localhost:8080/",
          "height": 608
        }
      },
      "source": [
        "#QQ Plot for Normality Test\n",
        "qqplot(data[\"Unit A\"], line = \"s\")\n",
        "plt.title(\"Unit A QQ Plot\")\n",
        "plt.show()                            #Unit A looks like its following Normal Distribution\n",
        "print(\"\\n\")\n",
        "qqplot(data[\"Unit B\"], line = \"s\")\n",
        "plt.title(\"Unit B QQ Plot\")\n",
        "plt.show()                            #Unit B looks like its following Normal Distribution"
      ],
      "execution_count": 0,
      "outputs": [
        {
          "output_type": "display_data",
          "data": {
            "image/png": "[encoded data removed]",
            "text/plain": [
              "<Figure size 432x288 with 1 Axes>"
            ]
          },
          "metadata": {
            "tags": []
          }
        },
        {
          "output_type": "stream",
          "text": [
            "\n",
            "\n"
          ],
          "name": "stdout"
        },
        {
          "output_type": "display_data",
          "data": {
            "image/png": "[encoded data removed]",
            "text/plain": [
              "<Figure size 432x288 with 1 Axes>"
            ]
          },
          "metadata": {
            "tags": []
          }
        }
      ]
    },
    {
      "cell_type": "code",
      "metadata": {
        "id": "jsTs9HWeOrAF",
        "colab_type": "code",
        "outputId": "c645071b-bf8d-44a7-e333-b974fbcde7c6",
        "colab": {
          "base_uri": "https://localhost:8080/",
          "height": 72
        }
      },
      "source": [
        "#Test for Normality: Anderson Darlington Test\n",
        "\n",
        "print(\"Andreson Result for Unit B: \", anderson(data[\"Unit B\"]))\n",
        "print(\"Andreson Result for Unit A: \", anderson(data[\"Unit A\"]))"
      ],
      "execution_count": 0,
      "outputs": [
        {
          "output_type": "stream",
          "text": [
            "Andreson Result for Unit B:  AndersonResult(statistic=0.26122996618448013, critical_values=array([0.527, 0.6  , 0.719, 0.839, 0.998]), significance_level=array([15. , 10. ,  5. ,  2.5,  1. ]))\n",
            "Andreson Result for Unit A:  AndersonResult(statistic=0.43309493801665866, critical_values=array([0.527, 0.6  , 0.719, 0.839, 0.998]), significance_level=array([15. , 10. ,  5. ,  2.5,  1. ]))\n"
          ],
          "name": "stdout"
        }
      ]
    },
    {
      "cell_type": "code",
      "metadata": {
        "id": "opbjVc26HNJx",
        "colab_type": "code",
        "colab": {}
      },
      "source": [
        "#Statistic Test\n",
        "#Independent Sample T-Test\n",
        "\n",
        "t_val, p_val = ttest_ind(data[\"Unit A\"], data[\"Unit B\"])"
      ],
      "execution_count": 0,
      "outputs": []
    },
    {
      "cell_type": "code",
      "metadata": {
        "id": "EqqGN4Kyf2y_",
        "colab_type": "code",
        "outputId": "1f409f9a-54de-480b-d98c-dee6a64b38a0",
        "colab": {
          "base_uri": "https://localhost:8080/",
          "height": 52
        }
      },
      "source": [
        "print(\"T- Statistic: \", t_val)\n",
        "print(\"P Value: \", p_val)"
      ],
      "execution_count": 0,
      "outputs": [
        {
          "output_type": "stream",
          "text": [
            "T- Statistic:  0.7228688704678061\n",
            "P Value:  0.4722394724599501\n"
          ],
          "name": "stdout"
        }
      ]
    },
    {
      "cell_type": "code",
      "metadata": {
        "id": "3Q04yY_EirRO",
        "colab_type": "code",
        "colab": {}
      },
      "source": [
        "#As the P Value(0.4722) is greater than the significance level(0.05), we fail to reject Null Hypothesis.\n",
        "#Hence according to Problem Statement, we can say that there is no significant difference between diameters\n",
        "#of cutlets from Unit A and Unit B."
      ],
      "execution_count": 0,
      "outputs": []
    },
    {
      "cell_type": "code",
      "metadata": {
        "id": "sPbDNfxQOg06",
        "colab_type": "code",
        "colab": {}
      },
      "source": [
        ""
      ],
      "execution_count": 0,
      "outputs": []
    },
    {
      "cell_type": "code",
      "metadata": {
        "id": "wPoFMch_Og5b",
        "colab_type": "code",
        "colab": {}
      },
      "source": [
        ""
      ],
      "execution_count": 0,
      "outputs": []
    },
    {
      "cell_type": "code",
      "metadata": {
        "id": "WMo2LoAxOg93",
        "colab_type": "code",
        "colab": {}
      },
      "source": [
        ""
      ],
      "execution_count": 0,
      "outputs": []
    },
    {
      "cell_type": "code",
      "metadata": {
        "id": "ifwnQZ15OhDi",
        "colab_type": "code",
        "colab": {}
      },
      "source": [
        ""
      ],
      "execution_count": 0,
      "outputs": []
    },
    {
      "cell_type": "code",
      "metadata": {
        "colab_type": "code",
        "id": "Wn2DdCghOhtq",
        "colab": {}
      },
      "source": [
        "#LabTAT.csv\n",
        "\n",
        "#Reading the file from Google Drive\n",
        "\n",
        "data = pd.read_csv(\"/content/drive/My Drive/ER/Hypothesis Testing/LabTAT.csv\")\n",
        "#data_x = data.drop(labels = [\"y\"], axis = 1)\n",
        "#data_y = data[\"y\"]"
      ],
      "execution_count": 0,
      "outputs": []
    },
    {
      "cell_type": "code",
      "metadata": {
        "id": "vg0kVxA4T7ro",
        "colab_type": "code",
        "outputId": "c01dedcf-00ba-457b-8d42-ac71e61393c5",
        "colab": {
          "base_uri": "https://localhost:8080/",
          "height": 202
        }
      },
      "source": [
        "data.head()"
      ],
      "execution_count": 0,
      "outputs": [
        {
          "output_type": "execute_result",
          "data": {
            "text/html": [
              "<div>\n",
              "<style scoped>\n",
              "    .dataframe tbody tr th:only-of-type {\n",
              "        vertical-align: middle;\n",
              "    }\n",
              "\n",
              "    .dataframe tbody tr th {\n",
              "        vertical-align: top;\n",
              "    }\n",
              "\n",
              "    .dataframe thead th {\n",
              "        text-align: right;\n",
              "    }\n",
              "</style>\n",
              "<table border=\"1\" class=\"dataframe\">\n",
              "  <thead>\n",
              "    <tr style=\"text-align: right;\">\n",
              "      <th></th>\n",
              "      <th>Laboratory 1</th>\n",
              "      <th>Laboratory 2</th>\n",
              "      <th>Laboratory 3</th>\n",
              "      <th>Laboratory 4</th>\n",
              "    </tr>\n",
              "  </thead>\n",
              "  <tbody>\n",
              "    <tr>\n",
              "      <th>0</th>\n",
              "      <td>185.35</td>\n",
              "      <td>165.53</td>\n",
              "      <td>176.70</td>\n",
              "      <td>166.13</td>\n",
              "    </tr>\n",
              "    <tr>\n",
              "      <th>1</th>\n",
              "      <td>170.49</td>\n",
              "      <td>185.91</td>\n",
              "      <td>198.45</td>\n",
              "      <td>160.79</td>\n",
              "    </tr>\n",
              "    <tr>\n",
              "      <th>2</th>\n",
              "      <td>192.77</td>\n",
              "      <td>194.92</td>\n",
              "      <td>201.23</td>\n",
              "      <td>185.18</td>\n",
              "    </tr>\n",
              "    <tr>\n",
              "      <th>3</th>\n",
              "      <td>177.33</td>\n",
              "      <td>183.00</td>\n",
              "      <td>199.61</td>\n",
              "      <td>176.42</td>\n",
              "    </tr>\n",
              "    <tr>\n",
              "      <th>4</th>\n",
              "      <td>193.41</td>\n",
              "      <td>169.57</td>\n",
              "      <td>204.63</td>\n",
              "      <td>152.60</td>\n",
              "    </tr>\n",
              "  </tbody>\n",
              "</table>\n",
              "</div>"
            ],
            "text/plain": [
              "   Laboratory 1  Laboratory 2  Laboratory 3  Laboratory 4\n",
              "0        185.35        165.53        176.70        166.13\n",
              "1        170.49        185.91        198.45        160.79\n",
              "2        192.77        194.92        201.23        185.18\n",
              "3        177.33        183.00        199.61        176.42\n",
              "4        193.41        169.57        204.63        152.60"
            ]
          },
          "metadata": {
            "tags": []
          },
          "execution_count": 107
        }
      ]
    },
    {
      "cell_type": "code",
      "metadata": {
        "id": "ecW_umZnOhA-",
        "colab_type": "code",
        "colab": {}
      },
      "source": [
        "#Mean\n",
        "\n",
        "mean_l1 = data[\"Laboratory 1\"].mean()\n",
        "mean_l2 = data[\"Laboratory 2\"].mean()\n",
        "mean_l3 = data[\"Laboratory 3\"].mean()\n",
        "mean_l4 = data[\"Laboratory 4\"].mean()"
      ],
      "execution_count": 0,
      "outputs": []
    },
    {
      "cell_type": "code",
      "metadata": {
        "id": "ji-EcPDgOpkX",
        "colab_type": "code",
        "outputId": "bb3912d0-4b0b-4a91-b650-984094bfae2b",
        "colab": {
          "base_uri": "https://localhost:8080/",
          "height": 87
        }
      },
      "source": [
        "print(\"Mean of Lab 1: \", mean_l1)\n",
        "print(\"Mean of Lab 2: \", mean_l2)\n",
        "print(\"Mean of Lab 3: \", mean_l3)\n",
        "print(\"Mean of Lab 4: \", mean_l4)"
      ],
      "execution_count": 0,
      "outputs": [
        {
          "output_type": "stream",
          "text": [
            "Mean of Lab 1:  178.36158333333339\n",
            "Mean of Lab 2:  178.9029166666668\n",
            "Mean of Lab 3:  199.91325000000003\n",
            "Mean of Lab 4:  163.6827499999999\n"
          ],
          "name": "stdout"
        }
      ]
    },
    {
      "cell_type": "code",
      "metadata": {
        "id": "EmVz2x0GOg72",
        "colab_type": "code",
        "colab": {}
      },
      "source": [
        "#Variance\n",
        "\n",
        "var_l1 = variance(data[\"Laboratory 1\"])\n",
        "var_l2 = variance(data[\"Laboratory 2\"])\n",
        "var_l3 = variance(data[\"Laboratory 3\"])\n",
        "var_l4 = variance(data[\"Laboratory 4\"])"
      ],
      "execution_count": 0,
      "outputs": []
    },
    {
      "cell_type": "code",
      "metadata": {
        "id": "k__qcLX1Og3w",
        "colab_type": "code",
        "outputId": "97fb3840-e7ff-49eb-87ca-7a550d7052d4",
        "colab": {
          "base_uri": "https://localhost:8080/",
          "height": 87
        }
      },
      "source": [
        "print(\"Variance Laboratory 1: \", var_l1)\n",
        "print(\"Variance Laboratory 2: \", var_l2)\n",
        "print(\"Variance Laboratory 3: \", var_l3)\n",
        "print(\"Variance Laboratory 4: \", var_l4)"
      ],
      "execution_count": 0,
      "outputs": [
        {
          "output_type": "stream",
          "text": [
            "Variance Laboratory 1:  173.54356806022406\n",
            "Variance Laboratory 2:  223.71525108543423\n",
            "Variance Laboratory 3:  273.5396069957983\n",
            "Variance Laboratory 4:  227.55963186974788\n"
          ],
          "name": "stdout"
        }
      ]
    },
    {
      "cell_type": "code",
      "metadata": {
        "id": "9hc1__n8Ogys",
        "colab_type": "code",
        "outputId": "e6871e75-b505-4ff2-eec0-e459f875815d",
        "colab": {
          "base_uri": "https://localhost:8080/",
          "height": 1000
        }
      },
      "source": [
        "#Normality Test\n",
        "#QQ PLOT\n",
        "\n",
        "qqplot(data[\"Laboratory 1\"], line = \"s\")\n",
        "plt.title(\"Lab 1 QQ Plot\")\n",
        "plt.show()                            #Lab 1 looks like its following Normal Distribution\n",
        "print(\"\\n\")\n",
        "qqplot(data[\"Laboratory 2\"], line = \"s\")\n",
        "plt.title(\"Lab 2 QQ Plot\")\n",
        "plt.show()                            #Lab 2 looks like its following Normal Distribution\n",
        "print(\"\\n\")\n",
        "qqplot(data[\"Laboratory 3\"], line = \"s\")\n",
        "plt.title(\"Lab 3 QQ Plot\")\n",
        "plt.show()                            #Lab 3 looks like its following Normal Distribution\n",
        "print(\"\\n\")\n",
        "qqplot(data[\"Laboratory 4\"], line = \"s\")\n",
        "plt.title(\"Lab 4 QQ Plot\")\n",
        "plt.show()                            #Lab 4 looks like its following Normal Distribution"
      ],
      "execution_count": 0,
      "outputs": [
        {
          "output_type": "display_data",
          "data": {
            "image/png": "[encoded data removed]",
            "text/plain": [
              "<Figure size 432x288 with 1 Axes>"
            ]
          },
          "metadata": {
            "tags": []
          }
        },
        {
          "output_type": "stream",
          "text": [
            "\n",
            "\n"
          ],
          "name": "stdout"
        },
        {
          "output_type": "display_data",
          "data": {
            "image/png": "[encoded data removed]",
            "text/plain": [
              "<Figure size 432x288 with 1 Axes>"
            ]
          },
          "metadata": {
            "tags": []
          }
        },
        {
          "output_type": "stream",
          "text": [
            "\n",
            "\n"
          ],
          "name": "stdout"
        },
        {
          "output_type": "display_data",
          "data": {
            "image/png": "[encoded data removed]",
            "text/plain": [
              "<Figure size 432x288 with 1 Axes>"
            ]
          },
          "metadata": {
            "tags": []
          }
        },
        {
          "output_type": "stream",
          "text": [
            "\n",
            "\n"
          ],
          "name": "stdout"
        },
        {
          "output_type": "display_data",
          "data": {
            "image/png": "[encoded data removed]",
            "text/plain": [
              "<Figure size 432x288 with 1 Axes>"
            ]
          },
          "metadata": {
            "tags": []
          }
        }
      ]
    },
    {
      "cell_type": "code",
      "metadata": {
        "id": "HMjUpExpUuaO",
        "colab_type": "code",
        "outputId": "900809e3-53d8-4417-967a-39622f5154ee",
        "colab": {
          "base_uri": "https://localhost:8080/",
          "height": 107
        }
      },
      "source": [
        "#Test for Normality: Anderson Darlington Test\n",
        "\n",
        "print(\"Andreson Result for Laboratory 1: \", anderson(data[\"Laboratory 1\"]))\n",
        "print(\"Andreson Result for Laboratory 2: \", anderson(data[\"Laboratory 2\"]))\n",
        "print(\"Andreson Result for Laboratory 3: \", anderson(data[\"Laboratory 3\"]))\n",
        "print(\"Andreson Result for Laboratory 4: \", anderson(data[\"Laboratory 4\"]))"
      ],
      "execution_count": 0,
      "outputs": [
        {
          "output_type": "stream",
          "text": [
            "Andreson Result for Laboratory 1:  AndersonResult(statistic=0.3182303220492031, critical_values=array([0.558, 0.636, 0.763, 0.89 , 1.059]), significance_level=array([15. , 10. ,  5. ,  2.5,  1. ]))\n",
            "Andreson Result for Laboratory 2:  AndersonResult(statistic=0.25190066085194474, critical_values=array([0.558, 0.636, 0.763, 0.89 , 1.059]), significance_level=array([15. , 10. ,  5. ,  2.5,  1. ]))\n",
            "Andreson Result for Laboratory 3:  AndersonResult(statistic=0.30013493831486926, critical_values=array([0.558, 0.636, 0.763, 0.89 , 1.059]), significance_level=array([15. , 10. ,  5. ,  2.5,  1. ]))\n",
            "Andreson Result for Laboratory 4:  AndersonResult(statistic=0.37037834211437826, critical_values=array([0.558, 0.636, 0.763, 0.89 , 1.059]), significance_level=array([15. , 10. ,  5. ,  2.5,  1. ]))\n"
          ],
          "name": "stdout"
        }
      ]
    },
    {
      "cell_type": "code",
      "metadata": {
        "colab_type": "code",
        "id": "BboupUUuWcvY",
        "colab": {}
      },
      "source": [
        "#Significance Level - 5%\n",
        "#Null Hypothesis - Mean of all Labs are same. mu(1) = mu(2) = mu(3) = mu(4)\n",
        "#Alternate Hypothesis - Mean of All Labs are not same."
      ],
      "execution_count": 0,
      "outputs": []
    },
    {
      "cell_type": "code",
      "metadata": {
        "id": "xND_0fhpVrS4",
        "colab_type": "code",
        "colab": {}
      },
      "source": [
        "#One way ANOVA\n",
        "f_val, p_val = f_oneway(data[\"Laboratory 1\"], data[\"Laboratory 2\"], data[\"Laboratory 3\"], data[\"Laboratory 4\"])"
      ],
      "execution_count": 0,
      "outputs": []
    },
    {
      "cell_type": "code",
      "metadata": {
        "id": "gO1r7M7uVrXy",
        "colab_type": "code",
        "outputId": "d26f0d3f-14ee-41e7-ff0b-5643f2646086",
        "colab": {
          "base_uri": "https://localhost:8080/",
          "height": 52
        }
      },
      "source": [
        "print(\"F-Value: \", f_val)\n",
        "print(\"P-Value: \", p_val)"
      ],
      "execution_count": 0,
      "outputs": [
        {
          "output_type": "stream",
          "text": [
            "F-Value:  118.70421654401437\n",
            "P-Value:  2.1156708949992414e-57\n"
          ],
          "name": "stdout"
        }
      ]
    },
    {
      "cell_type": "code",
      "metadata": {
        "id": "te3klyobVrQn",
        "colab_type": "code",
        "colab": {}
      },
      "source": [
        "#As the P Value is less than the significance level(0.05), we reject Null Hypothesis.\n",
        "#Hence according to Problem Statement, we can say that there is a significant difference between average TAT\n",
        "#among different Laboratories."
      ],
      "execution_count": 0,
      "outputs": []
    },
    {
      "cell_type": "code",
      "metadata": {
        "id": "zk47S9MWVrPQ",
        "colab_type": "code",
        "colab": {}
      },
      "source": [
        ""
      ],
      "execution_count": 0,
      "outputs": []
    },
    {
      "cell_type": "code",
      "metadata": {
        "id": "Gc8DhnPVVrL8",
        "colab_type": "code",
        "colab": {}
      },
      "source": [
        ""
      ],
      "execution_count": 0,
      "outputs": []
    },
    {
      "cell_type": "code",
      "metadata": {
        "id": "yUk3fZJiytXo",
        "colab_type": "code",
        "colab": {}
      },
      "source": [
        ""
      ],
      "execution_count": 0,
      "outputs": []
    },
    {
      "cell_type": "code",
      "metadata": {
        "id": "5YYXQzeKytUE",
        "colab_type": "code",
        "colab": {}
      },
      "source": [
        ""
      ],
      "execution_count": 0,
      "outputs": []
    },
    {
      "cell_type": "code",
      "metadata": {
        "colab_type": "code",
        "id": "37d0kEooAKse",
        "colab": {}
      },
      "source": [
        "#Fantaloons.csv\n",
        "#2-Proportion Test\n",
        "\n",
        "#Reading the file from Google Drive\n",
        "\n",
        "data = pd.read_csv(\"/content/drive/My Drive/ER/Hypothesis Testing/Faltoons.csv\")\n",
        "#data_x = data.drop(labels = [\"y\"], axis = 1)\n",
        "#data_y = data[\"y\"]"
      ],
      "execution_count": 0,
      "outputs": []
    },
    {
      "cell_type": "code",
      "metadata": {
        "id": "In2jtgp2Danz",
        "colab_type": "code",
        "outputId": "6cf75a5d-bfd6-4e7b-ba11-c382e6faddb9",
        "colab": {
          "base_uri": "https://localhost:8080/",
          "height": 35
        }
      },
      "source": [
        "data.shape"
      ],
      "execution_count": 0,
      "outputs": [
        {
          "output_type": "execute_result",
          "data": {
            "text/plain": [
              "(400, 2)"
            ]
          },
          "metadata": {
            "tags": []
          },
          "execution_count": 119
        }
      ]
    },
    {
      "cell_type": "code",
      "metadata": {
        "colab_type": "code",
        "id": "66qIDTvHAZMQ",
        "colab": {}
      },
      "source": [
        "#Significance Level - 5%\n",
        "#p1 - Proportion of male for Weekday\n",
        "#p2 - Proportion of male for Weekend\n",
        "#Null Hypothesis - Proportion of male for Weekday minus Proportion of male for Weekend is equal to 0. (p1 - p2) = 0 \n",
        "#Alternate Hypothesis - Proportion of male for Weekday minus Proportion of male for Weekend is not equal to 0. (p1 - p2) != 0"
      ],
      "execution_count": 0,
      "outputs": []
    },
    {
      "cell_type": "code",
      "metadata": {
        "id": "MvnJnPR35ksi",
        "colab_type": "code",
        "colab": {}
      },
      "source": [
        "Weekday_males = len(data[data[\"Weekdays\"] == \"Male\"])"
      ],
      "execution_count": 0,
      "outputs": []
    },
    {
      "cell_type": "code",
      "metadata": {
        "id": "9DNnrIJi6nEu",
        "colab_type": "code",
        "colab": {}
      },
      "source": [
        "Weekday_females = len(data[data[\"Weekdays\"] == \"Female\"])"
      ],
      "execution_count": 0,
      "outputs": []
    },
    {
      "cell_type": "code",
      "metadata": {
        "id": "pR0xGB6363LE",
        "colab_type": "code",
        "colab": {}
      },
      "source": [
        "Weekends_male = len(data[data[\"Weekend\"] == \"Male\"])"
      ],
      "execution_count": 0,
      "outputs": []
    },
    {
      "cell_type": "code",
      "metadata": {
        "id": "gi7CpIN87E5g",
        "colab_type": "code",
        "colab": {}
      },
      "source": [
        "Weekends_female = len(data[data[\"Weekend\"] == \"Female\"])"
      ],
      "execution_count": 0,
      "outputs": []
    },
    {
      "cell_type": "code",
      "metadata": {
        "id": "-Ufysn3w79tx",
        "colab_type": "code",
        "colab": {}
      },
      "source": [
        "df = pd.DataFrame([[Weekday_males, Weekday_females],[Weekends_male, Weekends_female]], columns = [\"Male\", \"Female\"],index = [\"Weekday\", \"Weekend\"] )"
      ],
      "execution_count": 0,
      "outputs": []
    },
    {
      "cell_type": "code",
      "metadata": {
        "id": "euSM4l9d58an",
        "colab_type": "code",
        "outputId": "b429f97f-ec95-48dc-ec75-81d94b981ee1",
        "colab": {
          "base_uri": "https://localhost:8080/",
          "height": 110
        }
      },
      "source": [
        "df"
      ],
      "execution_count": 0,
      "outputs": [
        {
          "output_type": "execute_result",
          "data": {
            "text/html": [
              "<div>\n",
              "<style scoped>\n",
              "    .dataframe tbody tr th:only-of-type {\n",
              "        vertical-align: middle;\n",
              "    }\n",
              "\n",
              "    .dataframe tbody tr th {\n",
              "        vertical-align: top;\n",
              "    }\n",
              "\n",
              "    .dataframe thead th {\n",
              "        text-align: right;\n",
              "    }\n",
              "</style>\n",
              "<table border=\"1\" class=\"dataframe\">\n",
              "  <thead>\n",
              "    <tr style=\"text-align: right;\">\n",
              "      <th></th>\n",
              "      <th>Male</th>\n",
              "      <th>Female</th>\n",
              "    </tr>\n",
              "  </thead>\n",
              "  <tbody>\n",
              "    <tr>\n",
              "      <th>Weekday</th>\n",
              "      <td>113</td>\n",
              "      <td>287</td>\n",
              "    </tr>\n",
              "    <tr>\n",
              "      <th>Weekend</th>\n",
              "      <td>167</td>\n",
              "      <td>233</td>\n",
              "    </tr>\n",
              "  </tbody>\n",
              "</table>\n",
              "</div>"
            ],
            "text/plain": [
              "         Male  Female\n",
              "Weekday   113     287\n",
              "Weekend   167     233"
            ]
          },
          "metadata": {
            "tags": []
          },
          "execution_count": 126
        }
      ]
    },
    {
      "cell_type": "code",
      "metadata": {
        "id": "lsmsZmkD_9HV",
        "colab_type": "code",
        "colab": {}
      },
      "source": [
        "#Using 2 Proportion test\n",
        "#Calculating Chi Square values for data_cont\n",
        "\n",
        "n1 = n2 = 400\n",
        "p1 = (113/400)\n",
        "p2 = (167/400)\n",
        "p = (113+167)/(400+400)  #Where p is \"Overall Sample Population \"\n",
        "\n",
        "#Calculating Z-Score\n",
        "#Z = (p1-p2-0)/sqrt(p(1-p)((1/n1)+(1/n2)))\n",
        "#Where Z is Z-Score for significance Level of 0.05\n",
        "Z = float((p1-p2-0)/math.sqrt(p*(1-p)*((1/n1)+(1/n2))))"
      ],
      "execution_count": 0,
      "outputs": []
    },
    {
      "cell_type": "code",
      "metadata": {
        "id": "21NKA87DO5so",
        "colab_type": "code",
        "outputId": "a4ca5b56-1974-40f1-836d-0137e18f966d",
        "colab": {
          "base_uri": "https://localhost:8080/",
          "height": 35
        }
      },
      "source": [
        "Z"
      ],
      "execution_count": 0,
      "outputs": [
        {
          "output_type": "execute_result",
          "data": {
            "text/plain": [
              "-4.002746309969947"
            ]
          },
          "metadata": {
            "tags": []
          },
          "execution_count": 128
        }
      ]
    },
    {
      "cell_type": "code",
      "metadata": {
        "id": "S1lAyg5oTH5r",
        "colab_type": "code",
        "colab": {}
      },
      "source": [
        "#From Z table, we can find the p value for Z = -4.0027\n",
        "#p value for Z = -4.0027 is 0.00031\n",
        "\n",
        "#As can be seen the p value is very much less than the Critical value/significance level, \n",
        "#hence we can reject the Null Hypothesis."
      ],
      "execution_count": 0,
      "outputs": []
    },
    {
      "cell_type": "code",
      "metadata": {
        "colab_type": "code",
        "id": "qi4dmsAEVFMK",
        "colab": {}
      },
      "source": [
        "#As the P Value is less than the significance level(0.05), we reject Null Hypothesis.\n",
        "#Hence according to Problem Statement, we can say that proportion of males coming to \n",
        "#store on any particular weekday is not equal to proportion of males coming to \n",
        "#store on any particular weekend."
      ],
      "execution_count": 0,
      "outputs": []
    },
    {
      "cell_type": "code",
      "metadata": {
        "id": "lDfgoH_l_9X0",
        "colab_type": "code",
        "colab": {}
      },
      "source": [
        ""
      ],
      "execution_count": 0,
      "outputs": []
    },
    {
      "cell_type": "code",
      "metadata": {
        "id": "l99Tpi5m_9Fq",
        "colab_type": "code",
        "colab": {}
      },
      "source": [
        ""
      ],
      "execution_count": 0,
      "outputs": []
    },
    {
      "cell_type": "code",
      "metadata": {
        "id": "6IeJ5sPm_9Ct",
        "colab_type": "code",
        "colab": {}
      },
      "source": [
        "#Buyer Ratio\n",
        "#Chi Squared Test\n",
        "\n",
        "#Reading the file from Google Drive\n",
        "\n",
        "data = pd.read_csv(\"/content/drive/My Drive/ER/Hypothesis Testing/BuyerRatio.csv\")\n",
        "#data_x = data.drop(labels = [\"y\"], axis = 1)\n",
        "#data_y = data[\"y\"]"
      ],
      "execution_count": 0,
      "outputs": []
    },
    {
      "cell_type": "code",
      "metadata": {
        "id": "L_9wz4OB_pOW",
        "colab_type": "code",
        "outputId": "2cfe7be1-a86b-4cae-f1c3-4f16301429ca",
        "colab": {
          "base_uri": "https://localhost:8080/",
          "height": 110
        }
      },
      "source": [
        "data"
      ],
      "execution_count": 0,
      "outputs": [
        {
          "output_type": "execute_result",
          "data": {
            "text/html": [
              "<div>\n",
              "<style scoped>\n",
              "    .dataframe tbody tr th:only-of-type {\n",
              "        vertical-align: middle;\n",
              "    }\n",
              "\n",
              "    .dataframe tbody tr th {\n",
              "        vertical-align: top;\n",
              "    }\n",
              "\n",
              "    .dataframe thead th {\n",
              "        text-align: right;\n",
              "    }\n",
              "</style>\n",
              "<table border=\"1\" class=\"dataframe\">\n",
              "  <thead>\n",
              "    <tr style=\"text-align: right;\">\n",
              "      <th></th>\n",
              "      <th>Observed Values</th>\n",
              "      <th>East</th>\n",
              "      <th>West</th>\n",
              "      <th>North</th>\n",
              "      <th>South</th>\n",
              "    </tr>\n",
              "  </thead>\n",
              "  <tbody>\n",
              "    <tr>\n",
              "      <th>0</th>\n",
              "      <td>Males</td>\n",
              "      <td>50</td>\n",
              "      <td>142</td>\n",
              "      <td>131</td>\n",
              "      <td>70</td>\n",
              "    </tr>\n",
              "    <tr>\n",
              "      <th>1</th>\n",
              "      <td>Females</td>\n",
              "      <td>435</td>\n",
              "      <td>1523</td>\n",
              "      <td>1356</td>\n",
              "      <td>750</td>\n",
              "    </tr>\n",
              "  </tbody>\n",
              "</table>\n",
              "</div>"
            ],
            "text/plain": [
              "  Observed Values  East  West  North  South\n",
              "0           Males    50   142    131     70\n",
              "1         Females   435  1523   1356    750"
            ]
          },
          "metadata": {
            "tags": []
          },
          "execution_count": 132
        }
      ]
    },
    {
      "cell_type": "code",
      "metadata": {
        "id": "NrzjRthzCJu8",
        "colab_type": "code",
        "colab": {}
      },
      "source": [
        "#Null Hypothesis - Proportion of Male and females are same.\n",
        "#Alternate Hypothesis - Proportion of Male and Female are not same.\n",
        "#Significance Level - 0.05"
      ],
      "execution_count": 0,
      "outputs": []
    },
    {
      "cell_type": "code",
      "metadata": {
        "id": "DL4ylJ-8_pUS",
        "colab_type": "code",
        "colab": {}
      },
      "source": [
        "chi_val, p_val, dof, expected = chi2_contingency([[50, 142, 131, 70],[435,1523, 1356, 750]])"
      ],
      "execution_count": 0,
      "outputs": []
    },
    {
      "cell_type": "code",
      "metadata": {
        "id": "itxBdScD_pZ4",
        "colab_type": "code",
        "outputId": "d9d3e52f-d536-4a27-887d-8e68240f15bb",
        "colab": {
          "base_uri": "https://localhost:8080/",
          "height": 69
        }
      },
      "source": [
        "print(\"Chi Statistic: \", chi_val)\n",
        "print(\"P value: \", p_val)\n",
        "print(\"Degree of Freedom: \", dof)"
      ],
      "execution_count": 0,
      "outputs": [
        {
          "output_type": "stream",
          "text": [
            "Chi Statistic:  1.595945538661058\n",
            "P value:  0.6603094907091882\n",
            "Degree of Freedom:  3\n"
          ],
          "name": "stdout"
        }
      ]
    },
    {
      "cell_type": "code",
      "metadata": {
        "id": "SVASx4sP_phs",
        "colab_type": "code",
        "colab": {}
      },
      "source": [
        "#As we can see that the P value is larger than Significance level, we fail to reject Null Hypothesis.\n",
        "#Hence, according to Problem Statement we can say that Proportion of Males and Females are same. "
      ],
      "execution_count": 0,
      "outputs": []
    },
    {
      "cell_type": "code",
      "metadata": {
        "id": "pvOe8KvD_pl-",
        "colab_type": "code",
        "colab": {}
      },
      "source": [
        ""
      ],
      "execution_count": 0,
      "outputs": []
    },
    {
      "cell_type": "code",
      "metadata": {
        "id": "gkAXTga9_pgT",
        "colab_type": "code",
        "colab": {}
      },
      "source": [
        ""
      ],
      "execution_count": 0,
      "outputs": []
    },
    {
      "cell_type": "code",
      "metadata": {
        "id": "BtHEw4zb_peQ",
        "colab_type": "code",
        "colab": {}
      },
      "source": [
        "#CustomerOrderForm.csv\n",
        "#Chi Square Test\n",
        "\n",
        "#Reading the file from Google Drive\n",
        "\n",
        "data = pd.read_csv(\"/content/drive/My Drive/ER/Hypothesis Testing/CustomerOrderForm.csv\")\n",
        "#data_x = data.drop(labels = [\"y\"], axis = 1)\n",
        "#data_y = data[\"y\"]"
      ],
      "execution_count": 0,
      "outputs": []
    },
    {
      "cell_type": "code",
      "metadata": {
        "id": "yGc8X1ylJbYG",
        "colab_type": "code",
        "outputId": "113f126c-ec1d-42d9-9a18-619e3f78df5f",
        "colab": {
          "base_uri": "https://localhost:8080/",
          "height": 415
        }
      },
      "source": [
        "data"
      ],
      "execution_count": 0,
      "outputs": [
        {
          "output_type": "execute_result",
          "data": {
            "text/html": [
              "<div>\n",
              "<style scoped>\n",
              "    .dataframe tbody tr th:only-of-type {\n",
              "        vertical-align: middle;\n",
              "    }\n",
              "\n",
              "    .dataframe tbody tr th {\n",
              "        vertical-align: top;\n",
              "    }\n",
              "\n",
              "    .dataframe thead th {\n",
              "        text-align: right;\n",
              "    }\n",
              "</style>\n",
              "<table border=\"1\" class=\"dataframe\">\n",
              "  <thead>\n",
              "    <tr style=\"text-align: right;\">\n",
              "      <th></th>\n",
              "      <th>Phillippines</th>\n",
              "      <th>Indonesia</th>\n",
              "      <th>Malta</th>\n",
              "      <th>India</th>\n",
              "    </tr>\n",
              "  </thead>\n",
              "  <tbody>\n",
              "    <tr>\n",
              "      <th>0</th>\n",
              "      <td>Error Free</td>\n",
              "      <td>Error Free</td>\n",
              "      <td>Defective</td>\n",
              "      <td>Error Free</td>\n",
              "    </tr>\n",
              "    <tr>\n",
              "      <th>1</th>\n",
              "      <td>Error Free</td>\n",
              "      <td>Error Free</td>\n",
              "      <td>Error Free</td>\n",
              "      <td>Defective</td>\n",
              "    </tr>\n",
              "    <tr>\n",
              "      <th>2</th>\n",
              "      <td>Error Free</td>\n",
              "      <td>Defective</td>\n",
              "      <td>Defective</td>\n",
              "      <td>Error Free</td>\n",
              "    </tr>\n",
              "    <tr>\n",
              "      <th>3</th>\n",
              "      <td>Error Free</td>\n",
              "      <td>Error Free</td>\n",
              "      <td>Error Free</td>\n",
              "      <td>Error Free</td>\n",
              "    </tr>\n",
              "    <tr>\n",
              "      <th>4</th>\n",
              "      <td>Error Free</td>\n",
              "      <td>Error Free</td>\n",
              "      <td>Defective</td>\n",
              "      <td>Error Free</td>\n",
              "    </tr>\n",
              "    <tr>\n",
              "      <th>...</th>\n",
              "      <td>...</td>\n",
              "      <td>...</td>\n",
              "      <td>...</td>\n",
              "      <td>...</td>\n",
              "    </tr>\n",
              "    <tr>\n",
              "      <th>295</th>\n",
              "      <td>Error Free</td>\n",
              "      <td>Error Free</td>\n",
              "      <td>Error Free</td>\n",
              "      <td>Error Free</td>\n",
              "    </tr>\n",
              "    <tr>\n",
              "      <th>296</th>\n",
              "      <td>Error Free</td>\n",
              "      <td>Error Free</td>\n",
              "      <td>Error Free</td>\n",
              "      <td>Error Free</td>\n",
              "    </tr>\n",
              "    <tr>\n",
              "      <th>297</th>\n",
              "      <td>Error Free</td>\n",
              "      <td>Error Free</td>\n",
              "      <td>Defective</td>\n",
              "      <td>Error Free</td>\n",
              "    </tr>\n",
              "    <tr>\n",
              "      <th>298</th>\n",
              "      <td>Error Free</td>\n",
              "      <td>Error Free</td>\n",
              "      <td>Error Free</td>\n",
              "      <td>Error Free</td>\n",
              "    </tr>\n",
              "    <tr>\n",
              "      <th>299</th>\n",
              "      <td>Error Free</td>\n",
              "      <td>Defective</td>\n",
              "      <td>Defective</td>\n",
              "      <td>Error Free</td>\n",
              "    </tr>\n",
              "  </tbody>\n",
              "</table>\n",
              "<p>300 rows × 4 columns</p>\n",
              "</div>"
            ],
            "text/plain": [
              "    Phillippines   Indonesia       Malta       India\n",
              "0     Error Free  Error Free   Defective  Error Free\n",
              "1     Error Free  Error Free  Error Free   Defective\n",
              "2     Error Free   Defective   Defective  Error Free\n",
              "3     Error Free  Error Free  Error Free  Error Free\n",
              "4     Error Free  Error Free   Defective  Error Free\n",
              "..           ...         ...         ...         ...\n",
              "295   Error Free  Error Free  Error Free  Error Free\n",
              "296   Error Free  Error Free  Error Free  Error Free\n",
              "297   Error Free  Error Free   Defective  Error Free\n",
              "298   Error Free  Error Free  Error Free  Error Free\n",
              "299   Error Free   Defective   Defective  Error Free\n",
              "\n",
              "[300 rows x 4 columns]"
            ]
          },
          "metadata": {
            "tags": []
          },
          "execution_count": 138
        }
      ]
    },
    {
      "cell_type": "code",
      "metadata": {
        "id": "bczOVHmSJgqg",
        "colab_type": "code",
        "colab": {}
      },
      "source": [
        "dta = [[Phil_EF, Indo_EF, Mal_EF, Ind_EF], [Phil_D, Indo_D, Mal_D, Ind_D]]"
      ],
      "execution_count": 0,
      "outputs": []
    },
    {
      "cell_type": "code",
      "metadata": {
        "id": "j9c8vFIt_pSn",
        "colab_type": "code",
        "colab": {}
      },
      "source": [
        "Phil_EF = (data[\"Phillippines\"] == \"Error Free\").sum()\n",
        "Indo_EF = (data[\"Indonesia\"] == \"Error Free\").sum()\n",
        "Mal_EF = (data[\"Malta\"] == \"Error Free\").sum()\n",
        "Ind_EF = (data[\"India\"] == \"Error Free\").sum()\n",
        "\n",
        "Phil_D = (data[\"Phillippines\"] == \"Defective\").sum()\n",
        "Indo_D = (data[\"Indonesia\"] == \"Defective\").sum()\n",
        "Mal_D = (data[\"Malta\"] == \"Defective\").sum()\n",
        "Ind_D = (data[\"India\"] == \"Defective\").sum()"
      ],
      "execution_count": 0,
      "outputs": []
    },
    {
      "cell_type": "code",
      "metadata": {
        "id": "QOLDzuUEIWMA",
        "colab_type": "code",
        "colab": {}
      },
      "source": [
        "df = pd.DataFrame(dta, index =  [\"Error Free\", \"Defective\"], columns = ['Phillippines', 'Indonesia', 'Malta', 'India'])"
      ],
      "execution_count": 0,
      "outputs": []
    },
    {
      "cell_type": "code",
      "metadata": {
        "id": "QtohZb9RKh3H",
        "colab_type": "code",
        "outputId": "6f0f8d96-4c37-48b6-ec81-b98ef7e6258d",
        "colab": {
          "base_uri": "https://localhost:8080/",
          "height": 110
        }
      },
      "source": [
        "df"
      ],
      "execution_count": 0,
      "outputs": [
        {
          "output_type": "execute_result",
          "data": {
            "text/html": [
              "<div>\n",
              "<style scoped>\n",
              "    .dataframe tbody tr th:only-of-type {\n",
              "        vertical-align: middle;\n",
              "    }\n",
              "\n",
              "    .dataframe tbody tr th {\n",
              "        vertical-align: top;\n",
              "    }\n",
              "\n",
              "    .dataframe thead th {\n",
              "        text-align: right;\n",
              "    }\n",
              "</style>\n",
              "<table border=\"1\" class=\"dataframe\">\n",
              "  <thead>\n",
              "    <tr style=\"text-align: right;\">\n",
              "      <th></th>\n",
              "      <th>Phillippines</th>\n",
              "      <th>Indonesia</th>\n",
              "      <th>Malta</th>\n",
              "      <th>India</th>\n",
              "    </tr>\n",
              "  </thead>\n",
              "  <tbody>\n",
              "    <tr>\n",
              "      <th>Error Free</th>\n",
              "      <td>271</td>\n",
              "      <td>267</td>\n",
              "      <td>269</td>\n",
              "      <td>280</td>\n",
              "    </tr>\n",
              "    <tr>\n",
              "      <th>Defective</th>\n",
              "      <td>29</td>\n",
              "      <td>33</td>\n",
              "      <td>31</td>\n",
              "      <td>20</td>\n",
              "    </tr>\n",
              "  </tbody>\n",
              "</table>\n",
              "</div>"
            ],
            "text/plain": [
              "            Phillippines  Indonesia  Malta  India\n",
              "Error Free           271        267    269    280\n",
              "Defective             29         33     31     20"
            ]
          },
          "metadata": {
            "tags": []
          },
          "execution_count": 142
        }
      ]
    },
    {
      "cell_type": "code",
      "metadata": {
        "id": "4ywQGdIMNaAw",
        "colab_type": "code",
        "colab": {}
      },
      "source": [
        "#Null Hypothesis  - Defective Percent varies by center.\n",
        "#Alternate Hypothesis - Defective Percent does not vary by center.\n",
        "#Significance Level - 0.05"
      ],
      "execution_count": 0,
      "outputs": []
    },
    {
      "cell_type": "code",
      "metadata": {
        "id": "c899nD87M2te",
        "colab_type": "code",
        "colab": {}
      },
      "source": [
        "chi_val, p_val, dof, expected = chi2_contingency(df)"
      ],
      "execution_count": 0,
      "outputs": []
    },
    {
      "cell_type": "code",
      "metadata": {
        "id": "zrCPA3s8M8QM",
        "colab_type": "code",
        "outputId": "e9032e8e-c869-4e4e-d997-eab4ea109b87",
        "colab": {
          "base_uri": "https://localhost:8080/",
          "height": 69
        }
      },
      "source": [
        "print(\"Chi Statistic: \", chi_val)\n",
        "print(\"P value: \", p_val)\n",
        "print(\"Degree of Freedom: \", dof)"
      ],
      "execution_count": 0,
      "outputs": [
        {
          "output_type": "stream",
          "text": [
            "Chi Statistic:  3.858960685820355\n",
            "P value:  0.2771020991233135\n",
            "Degree of Freedom:  3\n"
          ],
          "name": "stdout"
        }
      ]
    },
    {
      "cell_type": "code",
      "metadata": {
        "id": "SYiBzcOVOJMY",
        "colab_type": "code",
        "colab": {}
      },
      "source": [
        "#As we can see that the P value is larger than Significance level, we fail to reject Null Hypothesis.\n",
        "#Hence, according to Problem Statement we can say that Defective Percent varies by center. "
      ],
      "execution_count": 0,
      "outputs": []
    }
  ]
}