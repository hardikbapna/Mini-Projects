{
  "nbformat": 4,
  "nbformat_minor": 0,
  "metadata": {
    "colab": {
      "name": "ER_Random Forest_Company data.ipynb",
      "provenance": [],
      "collapsed_sections": []
    },
    "kernelspec": {
      "name": "python3",
      "display_name": "Python 3"
    },
    "accelerator": "GPU"
  },
  "cells": [
    {
      "cell_type": "code",
      "metadata": {
        "id": "UGq-KFpkPkyt",
        "colab_type": "code",
        "colab": {}
      },
      "source": [
        ""
      ],
      "execution_count": 0,
      "outputs": []
    },
    {
      "cell_type": "code",
      "metadata": {
        "id": "D_FkC4Vr8Zfb",
        "colab_type": "code",
        "colab": {}
      },
      "source": [
        "import numpy as np\n",
        "import pandas as pd\n",
        "import scipy as sc\n",
        "import matplotlib.pyplot as plt\n",
        "import seaborn as sns\n",
        "from sklearn.model_selection import train_test_split\n",
        "from sklearn.naive_bayes import GaussianNB\n",
        "from sklearn.preprocessing import MinMaxScaler\n",
        "from sklearn.metrics import confusion_matrix\n",
        "from sklearn.preprocessing import StandardScaler\n",
        "from sklearn.metrics import accuracy_score\n",
        "from sklearn.utils import resample\n",
        "import math\n",
        "from sklearn.tree import DecisionTreeClassifier\n",
        "from sklearn.ensemble import RandomForestClassifier\n",
        "import operator  # used to sort dictionary values "
      ],
      "execution_count": 0,
      "outputs": []
    },
    {
      "cell_type": "code",
      "metadata": {
        "id": "zyrYu8L-cQdH",
        "colab_type": "code",
        "outputId": "614efa62-2bcd-4dfc-968c-e3c515bbd5d0",
        "colab": {
          "base_uri": "https://localhost:8080/",
          "height": 122
        }
      },
      "source": [
        "#--------------------Run this cell to mount your Google Drive-------------------\n",
        "from google.colab import drive\n",
        "drive.mount('/content/drive')"
      ],
      "execution_count": 0,
      "outputs": [
        {
          "output_type": "stream",
          "text": [
            "Go to this URL in a browser: https://accounts.google.com/o/oauth2/auth?client_id=947318989803-6bn6qk8qdgf4n4g3pfee6491hc0brc4i.apps.googleusercontent.com&redirect_uri=urn%3aietf%3awg%3aoauth%3a2.0%3aoob&response_type=code&scope=email%20https%3a%2f%2fwww.googleapis.com%2fauth%2fdocs.test%20https%3a%2f%2fwww.googleapis.com%2fauth%2fdrive%20https%3a%2f%2fwww.googleapis.com%2fauth%2fdrive.photos.readonly%20https%3a%2f%2fwww.googleapis.com%2fauth%2fpeopleapi.readonly\n",
            "\n",
            "Enter your authorization code:\n",
            "··········\n",
            "Mounted at /content/drive\n"
          ],
          "name": "stdout"
        }
      ]
    },
    {
      "cell_type": "code",
      "metadata": {
        "id": "vrd3gzZucWDB",
        "colab_type": "code",
        "colab": {}
      },
      "source": [
        "#--------------------Reading Data from Google Drive------------------------\n",
        "\n",
        "# Code to read csv file into colaboratory:\n",
        "!pip install -U -q PyDrive\n",
        "from pydrive.auth import GoogleAuth\n",
        "from pydrive.drive import GoogleDrive\n",
        "from google.colab import auth\n",
        "from oauth2client.client import GoogleCredentials\n",
        "\n",
        "# 1. Authenticate and create the PyDrive client.\n",
        "auth.authenticate_user()\n",
        "gauth = GoogleAuth()\n",
        "gauth.credentials = GoogleCredentials.get_application_default()\n",
        "drive = GoogleDrive(gauth)"
      ],
      "execution_count": 0,
      "outputs": []
    },
    {
      "cell_type": "code",
      "metadata": {
        "id": "GbUiRyUdcW6v",
        "colab_type": "code",
        "colab": {}
      },
      "source": [
        "#Reading the file from Googlr Drive\n",
        "\n",
        "data = pd.read_csv(\"/content/drive/My Drive/ER/Random Forest/Company_Data.csv\", sep = ',')\n",
        "#data_x = data.drop(labels = [\"y\"], axis = 1)\n",
        "#data_y = data[\"y\"]"
      ],
      "execution_count": 0,
      "outputs": []
    },
    {
      "cell_type": "code",
      "metadata": {
        "id": "ggBmYGh4R3vU",
        "colab_type": "code",
        "colab": {}
      },
      "source": [
        ""
      ],
      "execution_count": 0,
      "outputs": []
    },
    {
      "cell_type": "code",
      "metadata": {
        "id": "B_z-W50XR3s_",
        "colab_type": "code",
        "outputId": "d69c94a9-cb29-4660-91e7-419ea7e4a3d3",
        "colab": {
          "base_uri": "https://localhost:8080/",
          "height": 669
        }
      },
      "source": [
        "data.head(20)"
      ],
      "execution_count": 0,
      "outputs": [
        {
          "output_type": "execute_result",
          "data": {
            "text/html": [
              "<div>\n",
              "<style scoped>\n",
              "    .dataframe tbody tr th:only-of-type {\n",
              "        vertical-align: middle;\n",
              "    }\n",
              "\n",
              "    .dataframe tbody tr th {\n",
              "        vertical-align: top;\n",
              "    }\n",
              "\n",
              "    .dataframe thead th {\n",
              "        text-align: right;\n",
              "    }\n",
              "</style>\n",
              "<table border=\"1\" class=\"dataframe\">\n",
              "  <thead>\n",
              "    <tr style=\"text-align: right;\">\n",
              "      <th></th>\n",
              "      <th>Sales</th>\n",
              "      <th>CompPrice</th>\n",
              "      <th>Income</th>\n",
              "      <th>Advertising</th>\n",
              "      <th>Population</th>\n",
              "      <th>Price</th>\n",
              "      <th>ShelveLoc</th>\n",
              "      <th>Age</th>\n",
              "      <th>Education</th>\n",
              "      <th>Urban</th>\n",
              "      <th>US</th>\n",
              "    </tr>\n",
              "  </thead>\n",
              "  <tbody>\n",
              "    <tr>\n",
              "      <th>0</th>\n",
              "      <td>9.50</td>\n",
              "      <td>138</td>\n",
              "      <td>73</td>\n",
              "      <td>11</td>\n",
              "      <td>276</td>\n",
              "      <td>120</td>\n",
              "      <td>Bad</td>\n",
              "      <td>42</td>\n",
              "      <td>17</td>\n",
              "      <td>Yes</td>\n",
              "      <td>Yes</td>\n",
              "    </tr>\n",
              "    <tr>\n",
              "      <th>1</th>\n",
              "      <td>11.22</td>\n",
              "      <td>111</td>\n",
              "      <td>48</td>\n",
              "      <td>16</td>\n",
              "      <td>260</td>\n",
              "      <td>83</td>\n",
              "      <td>Good</td>\n",
              "      <td>65</td>\n",
              "      <td>10</td>\n",
              "      <td>Yes</td>\n",
              "      <td>Yes</td>\n",
              "    </tr>\n",
              "    <tr>\n",
              "      <th>2</th>\n",
              "      <td>10.06</td>\n",
              "      <td>113</td>\n",
              "      <td>35</td>\n",
              "      <td>10</td>\n",
              "      <td>269</td>\n",
              "      <td>80</td>\n",
              "      <td>Medium</td>\n",
              "      <td>59</td>\n",
              "      <td>12</td>\n",
              "      <td>Yes</td>\n",
              "      <td>Yes</td>\n",
              "    </tr>\n",
              "    <tr>\n",
              "      <th>3</th>\n",
              "      <td>7.40</td>\n",
              "      <td>117</td>\n",
              "      <td>100</td>\n",
              "      <td>4</td>\n",
              "      <td>466</td>\n",
              "      <td>97</td>\n",
              "      <td>Medium</td>\n",
              "      <td>55</td>\n",
              "      <td>14</td>\n",
              "      <td>Yes</td>\n",
              "      <td>Yes</td>\n",
              "    </tr>\n",
              "    <tr>\n",
              "      <th>4</th>\n",
              "      <td>4.15</td>\n",
              "      <td>141</td>\n",
              "      <td>64</td>\n",
              "      <td>3</td>\n",
              "      <td>340</td>\n",
              "      <td>128</td>\n",
              "      <td>Bad</td>\n",
              "      <td>38</td>\n",
              "      <td>13</td>\n",
              "      <td>Yes</td>\n",
              "      <td>No</td>\n",
              "    </tr>\n",
              "    <tr>\n",
              "      <th>5</th>\n",
              "      <td>10.81</td>\n",
              "      <td>124</td>\n",
              "      <td>113</td>\n",
              "      <td>13</td>\n",
              "      <td>501</td>\n",
              "      <td>72</td>\n",
              "      <td>Bad</td>\n",
              "      <td>78</td>\n",
              "      <td>16</td>\n",
              "      <td>No</td>\n",
              "      <td>Yes</td>\n",
              "    </tr>\n",
              "    <tr>\n",
              "      <th>6</th>\n",
              "      <td>6.63</td>\n",
              "      <td>115</td>\n",
              "      <td>105</td>\n",
              "      <td>0</td>\n",
              "      <td>45</td>\n",
              "      <td>108</td>\n",
              "      <td>Medium</td>\n",
              "      <td>71</td>\n",
              "      <td>15</td>\n",
              "      <td>Yes</td>\n",
              "      <td>No</td>\n",
              "    </tr>\n",
              "    <tr>\n",
              "      <th>7</th>\n",
              "      <td>11.85</td>\n",
              "      <td>136</td>\n",
              "      <td>81</td>\n",
              "      <td>15</td>\n",
              "      <td>425</td>\n",
              "      <td>120</td>\n",
              "      <td>Good</td>\n",
              "      <td>67</td>\n",
              "      <td>10</td>\n",
              "      <td>Yes</td>\n",
              "      <td>Yes</td>\n",
              "    </tr>\n",
              "    <tr>\n",
              "      <th>8</th>\n",
              "      <td>6.54</td>\n",
              "      <td>132</td>\n",
              "      <td>110</td>\n",
              "      <td>0</td>\n",
              "      <td>108</td>\n",
              "      <td>124</td>\n",
              "      <td>Medium</td>\n",
              "      <td>76</td>\n",
              "      <td>10</td>\n",
              "      <td>No</td>\n",
              "      <td>No</td>\n",
              "    </tr>\n",
              "    <tr>\n",
              "      <th>9</th>\n",
              "      <td>4.69</td>\n",
              "      <td>132</td>\n",
              "      <td>113</td>\n",
              "      <td>0</td>\n",
              "      <td>131</td>\n",
              "      <td>124</td>\n",
              "      <td>Medium</td>\n",
              "      <td>76</td>\n",
              "      <td>17</td>\n",
              "      <td>No</td>\n",
              "      <td>Yes</td>\n",
              "    </tr>\n",
              "    <tr>\n",
              "      <th>10</th>\n",
              "      <td>9.01</td>\n",
              "      <td>121</td>\n",
              "      <td>78</td>\n",
              "      <td>9</td>\n",
              "      <td>150</td>\n",
              "      <td>100</td>\n",
              "      <td>Bad</td>\n",
              "      <td>26</td>\n",
              "      <td>10</td>\n",
              "      <td>No</td>\n",
              "      <td>Yes</td>\n",
              "    </tr>\n",
              "    <tr>\n",
              "      <th>11</th>\n",
              "      <td>11.96</td>\n",
              "      <td>117</td>\n",
              "      <td>94</td>\n",
              "      <td>4</td>\n",
              "      <td>503</td>\n",
              "      <td>94</td>\n",
              "      <td>Good</td>\n",
              "      <td>50</td>\n",
              "      <td>13</td>\n",
              "      <td>Yes</td>\n",
              "      <td>Yes</td>\n",
              "    </tr>\n",
              "    <tr>\n",
              "      <th>12</th>\n",
              "      <td>3.98</td>\n",
              "      <td>122</td>\n",
              "      <td>35</td>\n",
              "      <td>2</td>\n",
              "      <td>393</td>\n",
              "      <td>136</td>\n",
              "      <td>Medium</td>\n",
              "      <td>62</td>\n",
              "      <td>18</td>\n",
              "      <td>Yes</td>\n",
              "      <td>No</td>\n",
              "    </tr>\n",
              "    <tr>\n",
              "      <th>13</th>\n",
              "      <td>10.96</td>\n",
              "      <td>115</td>\n",
              "      <td>28</td>\n",
              "      <td>11</td>\n",
              "      <td>29</td>\n",
              "      <td>86</td>\n",
              "      <td>Good</td>\n",
              "      <td>53</td>\n",
              "      <td>18</td>\n",
              "      <td>Yes</td>\n",
              "      <td>Yes</td>\n",
              "    </tr>\n",
              "    <tr>\n",
              "      <th>14</th>\n",
              "      <td>11.17</td>\n",
              "      <td>107</td>\n",
              "      <td>117</td>\n",
              "      <td>11</td>\n",
              "      <td>148</td>\n",
              "      <td>118</td>\n",
              "      <td>Good</td>\n",
              "      <td>52</td>\n",
              "      <td>18</td>\n",
              "      <td>Yes</td>\n",
              "      <td>Yes</td>\n",
              "    </tr>\n",
              "    <tr>\n",
              "      <th>15</th>\n",
              "      <td>8.71</td>\n",
              "      <td>149</td>\n",
              "      <td>95</td>\n",
              "      <td>5</td>\n",
              "      <td>400</td>\n",
              "      <td>144</td>\n",
              "      <td>Medium</td>\n",
              "      <td>76</td>\n",
              "      <td>18</td>\n",
              "      <td>No</td>\n",
              "      <td>No</td>\n",
              "    </tr>\n",
              "    <tr>\n",
              "      <th>16</th>\n",
              "      <td>7.58</td>\n",
              "      <td>118</td>\n",
              "      <td>32</td>\n",
              "      <td>0</td>\n",
              "      <td>284</td>\n",
              "      <td>110</td>\n",
              "      <td>Good</td>\n",
              "      <td>63</td>\n",
              "      <td>13</td>\n",
              "      <td>Yes</td>\n",
              "      <td>No</td>\n",
              "    </tr>\n",
              "    <tr>\n",
              "      <th>17</th>\n",
              "      <td>12.29</td>\n",
              "      <td>147</td>\n",
              "      <td>74</td>\n",
              "      <td>13</td>\n",
              "      <td>251</td>\n",
              "      <td>131</td>\n",
              "      <td>Good</td>\n",
              "      <td>52</td>\n",
              "      <td>10</td>\n",
              "      <td>Yes</td>\n",
              "      <td>Yes</td>\n",
              "    </tr>\n",
              "    <tr>\n",
              "      <th>18</th>\n",
              "      <td>13.91</td>\n",
              "      <td>110</td>\n",
              "      <td>110</td>\n",
              "      <td>0</td>\n",
              "      <td>408</td>\n",
              "      <td>68</td>\n",
              "      <td>Good</td>\n",
              "      <td>46</td>\n",
              "      <td>17</td>\n",
              "      <td>No</td>\n",
              "      <td>Yes</td>\n",
              "    </tr>\n",
              "    <tr>\n",
              "      <th>19</th>\n",
              "      <td>8.73</td>\n",
              "      <td>129</td>\n",
              "      <td>76</td>\n",
              "      <td>16</td>\n",
              "      <td>58</td>\n",
              "      <td>121</td>\n",
              "      <td>Medium</td>\n",
              "      <td>69</td>\n",
              "      <td>12</td>\n",
              "      <td>Yes</td>\n",
              "      <td>Yes</td>\n",
              "    </tr>\n",
              "  </tbody>\n",
              "</table>\n",
              "</div>"
            ],
            "text/plain": [
              "    Sales  CompPrice  Income  Advertising  ...  Age  Education Urban   US\n",
              "0    9.50        138      73           11  ...   42         17   Yes  Yes\n",
              "1   11.22        111      48           16  ...   65         10   Yes  Yes\n",
              "2   10.06        113      35           10  ...   59         12   Yes  Yes\n",
              "3    7.40        117     100            4  ...   55         14   Yes  Yes\n",
              "4    4.15        141      64            3  ...   38         13   Yes   No\n",
              "5   10.81        124     113           13  ...   78         16    No  Yes\n",
              "6    6.63        115     105            0  ...   71         15   Yes   No\n",
              "7   11.85        136      81           15  ...   67         10   Yes  Yes\n",
              "8    6.54        132     110            0  ...   76         10    No   No\n",
              "9    4.69        132     113            0  ...   76         17    No  Yes\n",
              "10   9.01        121      78            9  ...   26         10    No  Yes\n",
              "11  11.96        117      94            4  ...   50         13   Yes  Yes\n",
              "12   3.98        122      35            2  ...   62         18   Yes   No\n",
              "13  10.96        115      28           11  ...   53         18   Yes  Yes\n",
              "14  11.17        107     117           11  ...   52         18   Yes  Yes\n",
              "15   8.71        149      95            5  ...   76         18    No   No\n",
              "16   7.58        118      32            0  ...   63         13   Yes   No\n",
              "17  12.29        147      74           13  ...   52         10   Yes  Yes\n",
              "18  13.91        110     110            0  ...   46         17    No  Yes\n",
              "19   8.73        129      76           16  ...   69         12   Yes  Yes\n",
              "\n",
              "[20 rows x 11 columns]"
            ]
          },
          "metadata": {
            "tags": []
          },
          "execution_count": 113
        }
      ]
    },
    {
      "cell_type": "code",
      "metadata": {
        "id": "CvB0bpnIR3pt",
        "colab_type": "code",
        "colab": {}
      },
      "source": [
        "# Setting white style grid (white background) for graphs in seaborn\n",
        "sns.set_style(\"whitegrid\")"
      ],
      "execution_count": 0,
      "outputs": []
    },
    {
      "cell_type": "code",
      "metadata": {
        "id": "n7UtyrGYR3mq",
        "colab_type": "code",
        "outputId": "c2bba704-caff-45e5-93e6-4bc08bd1a5b2",
        "colab": {
          "base_uri": "https://localhost:8080/",
          "height": 221
        }
      },
      "source": [
        "#Checking for null values\n",
        "\n",
        "data.isnull().sum()   #Hence this shows that there are no null value in the dataset."
      ],
      "execution_count": 0,
      "outputs": [
        {
          "output_type": "execute_result",
          "data": {
            "text/plain": [
              "Sales          0\n",
              "CompPrice      0\n",
              "Income         0\n",
              "Advertising    0\n",
              "Population     0\n",
              "Price          0\n",
              "ShelveLoc      0\n",
              "Age            0\n",
              "Education      0\n",
              "Urban          0\n",
              "US             0\n",
              "dtype: int64"
            ]
          },
          "metadata": {
            "tags": []
          },
          "execution_count": 115
        }
      ]
    },
    {
      "cell_type": "code",
      "metadata": {
        "id": "-cpjFy-TR3ka",
        "colab_type": "code",
        "colab": {}
      },
      "source": [
        ""
      ],
      "execution_count": 0,
      "outputs": []
    },
    {
      "cell_type": "code",
      "metadata": {
        "id": "8ukeqe69R3ha",
        "colab_type": "code",
        "outputId": "add21067-96e3-487e-944f-5bb7acbb21fb",
        "colab": {
          "base_uri": "https://localhost:8080/",
          "height": 297
        }
      },
      "source": [
        "#Data Description\n",
        "\n",
        "data.describe()\n"
      ],
      "execution_count": 0,
      "outputs": [
        {
          "output_type": "execute_result",
          "data": {
            "text/html": [
              "<div>\n",
              "<style scoped>\n",
              "    .dataframe tbody tr th:only-of-type {\n",
              "        vertical-align: middle;\n",
              "    }\n",
              "\n",
              "    .dataframe tbody tr th {\n",
              "        vertical-align: top;\n",
              "    }\n",
              "\n",
              "    .dataframe thead th {\n",
              "        text-align: right;\n",
              "    }\n",
              "</style>\n",
              "<table border=\"1\" class=\"dataframe\">\n",
              "  <thead>\n",
              "    <tr style=\"text-align: right;\">\n",
              "      <th></th>\n",
              "      <th>Sales</th>\n",
              "      <th>CompPrice</th>\n",
              "      <th>Income</th>\n",
              "      <th>Advertising</th>\n",
              "      <th>Population</th>\n",
              "      <th>Price</th>\n",
              "      <th>Age</th>\n",
              "      <th>Education</th>\n",
              "    </tr>\n",
              "  </thead>\n",
              "  <tbody>\n",
              "    <tr>\n",
              "      <th>count</th>\n",
              "      <td>400.000000</td>\n",
              "      <td>400.000000</td>\n",
              "      <td>400.000000</td>\n",
              "      <td>400.000000</td>\n",
              "      <td>400.000000</td>\n",
              "      <td>400.000000</td>\n",
              "      <td>400.000000</td>\n",
              "      <td>400.000000</td>\n",
              "    </tr>\n",
              "    <tr>\n",
              "      <th>mean</th>\n",
              "      <td>7.496325</td>\n",
              "      <td>124.975000</td>\n",
              "      <td>68.657500</td>\n",
              "      <td>6.635000</td>\n",
              "      <td>264.840000</td>\n",
              "      <td>115.795000</td>\n",
              "      <td>53.322500</td>\n",
              "      <td>13.900000</td>\n",
              "    </tr>\n",
              "    <tr>\n",
              "      <th>std</th>\n",
              "      <td>2.824115</td>\n",
              "      <td>15.334512</td>\n",
              "      <td>27.986037</td>\n",
              "      <td>6.650364</td>\n",
              "      <td>147.376436</td>\n",
              "      <td>23.676664</td>\n",
              "      <td>16.200297</td>\n",
              "      <td>2.620528</td>\n",
              "    </tr>\n",
              "    <tr>\n",
              "      <th>min</th>\n",
              "      <td>0.000000</td>\n",
              "      <td>77.000000</td>\n",
              "      <td>21.000000</td>\n",
              "      <td>0.000000</td>\n",
              "      <td>10.000000</td>\n",
              "      <td>24.000000</td>\n",
              "      <td>25.000000</td>\n",
              "      <td>10.000000</td>\n",
              "    </tr>\n",
              "    <tr>\n",
              "      <th>25%</th>\n",
              "      <td>5.390000</td>\n",
              "      <td>115.000000</td>\n",
              "      <td>42.750000</td>\n",
              "      <td>0.000000</td>\n",
              "      <td>139.000000</td>\n",
              "      <td>100.000000</td>\n",
              "      <td>39.750000</td>\n",
              "      <td>12.000000</td>\n",
              "    </tr>\n",
              "    <tr>\n",
              "      <th>50%</th>\n",
              "      <td>7.490000</td>\n",
              "      <td>125.000000</td>\n",
              "      <td>69.000000</td>\n",
              "      <td>5.000000</td>\n",
              "      <td>272.000000</td>\n",
              "      <td>117.000000</td>\n",
              "      <td>54.500000</td>\n",
              "      <td>14.000000</td>\n",
              "    </tr>\n",
              "    <tr>\n",
              "      <th>75%</th>\n",
              "      <td>9.320000</td>\n",
              "      <td>135.000000</td>\n",
              "      <td>91.000000</td>\n",
              "      <td>12.000000</td>\n",
              "      <td>398.500000</td>\n",
              "      <td>131.000000</td>\n",
              "      <td>66.000000</td>\n",
              "      <td>16.000000</td>\n",
              "    </tr>\n",
              "    <tr>\n",
              "      <th>max</th>\n",
              "      <td>16.270000</td>\n",
              "      <td>175.000000</td>\n",
              "      <td>120.000000</td>\n",
              "      <td>29.000000</td>\n",
              "      <td>509.000000</td>\n",
              "      <td>191.000000</td>\n",
              "      <td>80.000000</td>\n",
              "      <td>18.000000</td>\n",
              "    </tr>\n",
              "  </tbody>\n",
              "</table>\n",
              "</div>"
            ],
            "text/plain": [
              "            Sales   CompPrice      Income  ...       Price         Age   Education\n",
              "count  400.000000  400.000000  400.000000  ...  400.000000  400.000000  400.000000\n",
              "mean     7.496325  124.975000   68.657500  ...  115.795000   53.322500   13.900000\n",
              "std      2.824115   15.334512   27.986037  ...   23.676664   16.200297    2.620528\n",
              "min      0.000000   77.000000   21.000000  ...   24.000000   25.000000   10.000000\n",
              "25%      5.390000  115.000000   42.750000  ...  100.000000   39.750000   12.000000\n",
              "50%      7.490000  125.000000   69.000000  ...  117.000000   54.500000   14.000000\n",
              "75%      9.320000  135.000000   91.000000  ...  131.000000   66.000000   16.000000\n",
              "max     16.270000  175.000000  120.000000  ...  191.000000   80.000000   18.000000\n",
              "\n",
              "[8 rows x 8 columns]"
            ]
          },
          "metadata": {
            "tags": []
          },
          "execution_count": 116
        }
      ]
    },
    {
      "cell_type": "code",
      "metadata": {
        "id": "VY850nghR3es",
        "colab_type": "code",
        "outputId": "3b2e64f1-3c4d-4c94-a2c9-582522bbbe5f",
        "colab": {
          "base_uri": "https://localhost:8080/",
          "height": 289
        }
      },
      "source": [
        "#Data info()\n",
        "\n",
        "data.info()"
      ],
      "execution_count": 0,
      "outputs": [
        {
          "output_type": "stream",
          "text": [
            "<class 'pandas.core.frame.DataFrame'>\n",
            "RangeIndex: 400 entries, 0 to 399\n",
            "Data columns (total 11 columns):\n",
            "Sales          400 non-null float64\n",
            "CompPrice      400 non-null int64\n",
            "Income         400 non-null int64\n",
            "Advertising    400 non-null int64\n",
            "Population     400 non-null int64\n",
            "Price          400 non-null int64\n",
            "ShelveLoc      400 non-null object\n",
            "Age            400 non-null int64\n",
            "Education      400 non-null int64\n",
            "Urban          400 non-null object\n",
            "US             400 non-null object\n",
            "dtypes: float64(1), int64(7), object(3)\n",
            "memory usage: 34.5+ KB\n"
          ],
          "name": "stdout"
        }
      ]
    },
    {
      "cell_type": "code",
      "metadata": {
        "id": "lJLS8JTrR3XV",
        "colab_type": "code",
        "outputId": "fb65db95-bc84-48dc-954d-162cff6b90fe",
        "colab": {
          "base_uri": "https://localhost:8080/",
          "height": 592
        }
      },
      "source": [
        "#Distribution of variables.\n",
        "\n",
        "plt.figure(figsize = (20,10))\n",
        "#f,axes = plt.subplots(4,2)\n",
        "#j = 0\n",
        "for i in [\"Sales\",\"CompPrice\",\"Income\",\"Advertising\",\"Population\",\"Price\",\"Age\"]:\n",
        "  sns.kdeplot(data[i], shade = True)\n",
        "  #j=j+1"
      ],
      "execution_count": 0,
      "outputs": [
        {
          "output_type": "display_data",
          "data": {
            "image/png": "[encoded data removed]",
            "text/plain": [
              "<Figure size 1440x720 with 1 Axes>"
            ]
          },
          "metadata": {
            "tags": []
          }
        }
      ]
    },
    {
      "cell_type": "code",
      "metadata": {
        "id": "t_9PerP2Ceb2",
        "colab_type": "code",
        "outputId": "a0c72893-ec86-4fca-c0da-a76b2282e075",
        "colab": {
          "base_uri": "https://localhost:8080/",
          "height": 863
        }
      },
      "source": [
        "#Plotting the distribution of some variables \n",
        "\n",
        "f,axes = plt.subplots(4,2, figsize = (20,15))\n",
        "\n",
        "col = [\"Sales\",\"CompPrice\",\"Income\",\"Advertising\",\"Population\",\"Price\",\"Age\"]\n",
        "i = 0\n",
        "for j in range(0,4):\n",
        "  for k in range(0,2):\n",
        "   sns.kdeplot(data[col[i]], ax = axes[j][k], shade = True)\n",
        "   i = i+1\n",
        "   if i>=len(col):\n",
        "     break"
      ],
      "execution_count": 0,
      "outputs": [
        {
          "output_type": "display_data",
          "data": {
            "image/png": "[encoded data removed]",
            "text/plain": [
              "<Figure size 1440x1080 with 8 Axes>"
            ]
          },
          "metadata": {
            "tags": []
          }
        }
      ]
    },
    {
      "cell_type": "code",
      "metadata": {
        "id": "IlKzp_Y_BH_n",
        "colab_type": "code",
        "colab": {}
      },
      "source": [
        ""
      ],
      "execution_count": 0,
      "outputs": []
    },
    {
      "cell_type": "code",
      "metadata": {
        "id": "mAPyGi68BIEq",
        "colab_type": "code",
        "colab": {}
      },
      "source": [
        "#Data Pre-Processing\n",
        "\n",
        "# Converting Sales data from continuous to categorical variable\n",
        "#As its not mentioned in problem statement as to what values of Sale should be considered\n",
        "#high. I am taking values greater than 9.5k to be high sales and rest as low sales.\n",
        "\n",
        "\n",
        "data[\"target_sales\"] = list(map((lambda x: 1 if x> 9.5 else 0), data[\"Sales\"]))   # 1 - High Sales\n",
        "                                                                                  # 0 - Low Sales\n",
        "\n",
        "y = data[\"target_sales\"]\n",
        "data.drop(labels = [\"Sales\", \"target_sales\"], axis = 1, inplace = True)"
      ],
      "execution_count": 0,
      "outputs": []
    },
    {
      "cell_type": "code",
      "metadata": {
        "id": "_NTmMzV6BIJO",
        "colab_type": "code",
        "outputId": "18d25de3-6305-4f36-ce79-c75a785f64f7",
        "colab": {
          "base_uri": "https://localhost:8080/",
          "height": 204
        }
      },
      "source": [
        "data.head()"
      ],
      "execution_count": 0,
      "outputs": [
        {
          "output_type": "execute_result",
          "data": {
            "text/html": [
              "<div>\n",
              "<style scoped>\n",
              "    .dataframe tbody tr th:only-of-type {\n",
              "        vertical-align: middle;\n",
              "    }\n",
              "\n",
              "    .dataframe tbody tr th {\n",
              "        vertical-align: top;\n",
              "    }\n",
              "\n",
              "    .dataframe thead th {\n",
              "        text-align: right;\n",
              "    }\n",
              "</style>\n",
              "<table border=\"1\" class=\"dataframe\">\n",
              "  <thead>\n",
              "    <tr style=\"text-align: right;\">\n",
              "      <th></th>\n",
              "      <th>CompPrice</th>\n",
              "      <th>Income</th>\n",
              "      <th>Advertising</th>\n",
              "      <th>Population</th>\n",
              "      <th>Price</th>\n",
              "      <th>ShelveLoc</th>\n",
              "      <th>Age</th>\n",
              "      <th>Education</th>\n",
              "      <th>Urban</th>\n",
              "      <th>US</th>\n",
              "    </tr>\n",
              "  </thead>\n",
              "  <tbody>\n",
              "    <tr>\n",
              "      <th>0</th>\n",
              "      <td>138</td>\n",
              "      <td>73</td>\n",
              "      <td>11</td>\n",
              "      <td>276</td>\n",
              "      <td>120</td>\n",
              "      <td>Bad</td>\n",
              "      <td>42</td>\n",
              "      <td>17</td>\n",
              "      <td>Yes</td>\n",
              "      <td>Yes</td>\n",
              "    </tr>\n",
              "    <tr>\n",
              "      <th>1</th>\n",
              "      <td>111</td>\n",
              "      <td>48</td>\n",
              "      <td>16</td>\n",
              "      <td>260</td>\n",
              "      <td>83</td>\n",
              "      <td>Good</td>\n",
              "      <td>65</td>\n",
              "      <td>10</td>\n",
              "      <td>Yes</td>\n",
              "      <td>Yes</td>\n",
              "    </tr>\n",
              "    <tr>\n",
              "      <th>2</th>\n",
              "      <td>113</td>\n",
              "      <td>35</td>\n",
              "      <td>10</td>\n",
              "      <td>269</td>\n",
              "      <td>80</td>\n",
              "      <td>Medium</td>\n",
              "      <td>59</td>\n",
              "      <td>12</td>\n",
              "      <td>Yes</td>\n",
              "      <td>Yes</td>\n",
              "    </tr>\n",
              "    <tr>\n",
              "      <th>3</th>\n",
              "      <td>117</td>\n",
              "      <td>100</td>\n",
              "      <td>4</td>\n",
              "      <td>466</td>\n",
              "      <td>97</td>\n",
              "      <td>Medium</td>\n",
              "      <td>55</td>\n",
              "      <td>14</td>\n",
              "      <td>Yes</td>\n",
              "      <td>Yes</td>\n",
              "    </tr>\n",
              "    <tr>\n",
              "      <th>4</th>\n",
              "      <td>141</td>\n",
              "      <td>64</td>\n",
              "      <td>3</td>\n",
              "      <td>340</td>\n",
              "      <td>128</td>\n",
              "      <td>Bad</td>\n",
              "      <td>38</td>\n",
              "      <td>13</td>\n",
              "      <td>Yes</td>\n",
              "      <td>No</td>\n",
              "    </tr>\n",
              "  </tbody>\n",
              "</table>\n",
              "</div>"
            ],
            "text/plain": [
              "   CompPrice  Income  Advertising  Population  ...  Age Education  Urban   US\n",
              "0        138      73           11         276  ...   42        17    Yes  Yes\n",
              "1        111      48           16         260  ...   65        10    Yes  Yes\n",
              "2        113      35           10         269  ...   59        12    Yes  Yes\n",
              "3        117     100            4         466  ...   55        14    Yes  Yes\n",
              "4        141      64            3         340  ...   38        13    Yes   No\n",
              "\n",
              "[5 rows x 10 columns]"
            ]
          },
          "metadata": {
            "tags": []
          },
          "execution_count": 121
        }
      ]
    },
    {
      "cell_type": "code",
      "metadata": {
        "id": "2iXfCJuhBIN8",
        "colab_type": "code",
        "colab": {}
      },
      "source": [
        ""
      ],
      "execution_count": 0,
      "outputs": []
    },
    {
      "cell_type": "code",
      "metadata": {
        "id": "a2e13xApBISF",
        "colab_type": "code",
        "colab": {}
      },
      "source": [
        "#Converting all categorical variables into dummy variables\n",
        "\n",
        "ShelveLoc_dummy = pd.get_dummies(data[\"ShelveLoc\"], prefix = \"ShelveLoc\")\n",
        "Education_dummy = pd.get_dummies(data[\"Education\"], prefix = \"Education\")\n",
        "Urban_dummy = pd.get_dummies(data[\"Urban\"], prefix = \"Urban\")\n",
        "US_dummy = pd.get_dummies(data[\"US\"], prefix = \"US\")"
      ],
      "execution_count": 0,
      "outputs": []
    },
    {
      "cell_type": "code",
      "metadata": {
        "id": "XAAX5Ic1JMec",
        "colab_type": "code",
        "colab": {}
      },
      "source": [
        "data.drop(labels = [\"ShelveLoc\", \"Education\", \"Urban\", \"US\"], axis = 1, inplace = True)"
      ],
      "execution_count": 0,
      "outputs": []
    },
    {
      "cell_type": "code",
      "metadata": {
        "id": "hVZx0Oi8BIMi",
        "colab_type": "code",
        "colab": {}
      },
      "source": [
        "data_final = pd.concat([data, ShelveLoc_dummy, Education_dummy, Urban_dummy, US_dummy], axis = 1)"
      ],
      "execution_count": 0,
      "outputs": []
    },
    {
      "cell_type": "code",
      "metadata": {
        "id": "C9cwLPGDBIHt",
        "colab_type": "code",
        "outputId": "a417e8f3-b2f6-4ee3-d35e-7fa0ab19ad16",
        "colab": {
          "base_uri": "https://localhost:8080/",
          "height": 224
        }
      },
      "source": [
        "#Final Data Frame\n",
        "data_final.head()"
      ],
      "execution_count": 0,
      "outputs": [
        {
          "output_type": "execute_result",
          "data": {
            "text/html": [
              "<div>\n",
              "<style scoped>\n",
              "    .dataframe tbody tr th:only-of-type {\n",
              "        vertical-align: middle;\n",
              "    }\n",
              "\n",
              "    .dataframe tbody tr th {\n",
              "        vertical-align: top;\n",
              "    }\n",
              "\n",
              "    .dataframe thead th {\n",
              "        text-align: right;\n",
              "    }\n",
              "</style>\n",
              "<table border=\"1\" class=\"dataframe\">\n",
              "  <thead>\n",
              "    <tr style=\"text-align: right;\">\n",
              "      <th></th>\n",
              "      <th>CompPrice</th>\n",
              "      <th>Income</th>\n",
              "      <th>Advertising</th>\n",
              "      <th>Population</th>\n",
              "      <th>Price</th>\n",
              "      <th>Age</th>\n",
              "      <th>ShelveLoc_Bad</th>\n",
              "      <th>ShelveLoc_Good</th>\n",
              "      <th>ShelveLoc_Medium</th>\n",
              "      <th>Education_10</th>\n",
              "      <th>Education_11</th>\n",
              "      <th>Education_12</th>\n",
              "      <th>Education_13</th>\n",
              "      <th>Education_14</th>\n",
              "      <th>Education_15</th>\n",
              "      <th>Education_16</th>\n",
              "      <th>Education_17</th>\n",
              "      <th>Education_18</th>\n",
              "      <th>Urban_No</th>\n",
              "      <th>Urban_Yes</th>\n",
              "      <th>US_No</th>\n",
              "      <th>US_Yes</th>\n",
              "    </tr>\n",
              "  </thead>\n",
              "  <tbody>\n",
              "    <tr>\n",
              "      <th>0</th>\n",
              "      <td>138</td>\n",
              "      <td>73</td>\n",
              "      <td>11</td>\n",
              "      <td>276</td>\n",
              "      <td>120</td>\n",
              "      <td>42</td>\n",
              "      <td>1</td>\n",
              "      <td>0</td>\n",
              "      <td>0</td>\n",
              "      <td>0</td>\n",
              "      <td>0</td>\n",
              "      <td>0</td>\n",
              "      <td>0</td>\n",
              "      <td>0</td>\n",
              "      <td>0</td>\n",
              "      <td>0</td>\n",
              "      <td>1</td>\n",
              "      <td>0</td>\n",
              "      <td>0</td>\n",
              "      <td>1</td>\n",
              "      <td>0</td>\n",
              "      <td>1</td>\n",
              "    </tr>\n",
              "    <tr>\n",
              "      <th>1</th>\n",
              "      <td>111</td>\n",
              "      <td>48</td>\n",
              "      <td>16</td>\n",
              "      <td>260</td>\n",
              "      <td>83</td>\n",
              "      <td>65</td>\n",
              "      <td>0</td>\n",
              "      <td>1</td>\n",
              "      <td>0</td>\n",
              "      <td>1</td>\n",
              "      <td>0</td>\n",
              "      <td>0</td>\n",
              "      <td>0</td>\n",
              "      <td>0</td>\n",
              "      <td>0</td>\n",
              "      <td>0</td>\n",
              "      <td>0</td>\n",
              "      <td>0</td>\n",
              "      <td>0</td>\n",
              "      <td>1</td>\n",
              "      <td>0</td>\n",
              "      <td>1</td>\n",
              "    </tr>\n",
              "    <tr>\n",
              "      <th>2</th>\n",
              "      <td>113</td>\n",
              "      <td>35</td>\n",
              "      <td>10</td>\n",
              "      <td>269</td>\n",
              "      <td>80</td>\n",
              "      <td>59</td>\n",
              "      <td>0</td>\n",
              "      <td>0</td>\n",
              "      <td>1</td>\n",
              "      <td>0</td>\n",
              "      <td>0</td>\n",
              "      <td>1</td>\n",
              "      <td>0</td>\n",
              "      <td>0</td>\n",
              "      <td>0</td>\n",
              "      <td>0</td>\n",
              "      <td>0</td>\n",
              "      <td>0</td>\n",
              "      <td>0</td>\n",
              "      <td>1</td>\n",
              "      <td>0</td>\n",
              "      <td>1</td>\n",
              "    </tr>\n",
              "    <tr>\n",
              "      <th>3</th>\n",
              "      <td>117</td>\n",
              "      <td>100</td>\n",
              "      <td>4</td>\n",
              "      <td>466</td>\n",
              "      <td>97</td>\n",
              "      <td>55</td>\n",
              "      <td>0</td>\n",
              "      <td>0</td>\n",
              "      <td>1</td>\n",
              "      <td>0</td>\n",
              "      <td>0</td>\n",
              "      <td>0</td>\n",
              "      <td>0</td>\n",
              "      <td>1</td>\n",
              "      <td>0</td>\n",
              "      <td>0</td>\n",
              "      <td>0</td>\n",
              "      <td>0</td>\n",
              "      <td>0</td>\n",
              "      <td>1</td>\n",
              "      <td>0</td>\n",
              "      <td>1</td>\n",
              "    </tr>\n",
              "    <tr>\n",
              "      <th>4</th>\n",
              "      <td>141</td>\n",
              "      <td>64</td>\n",
              "      <td>3</td>\n",
              "      <td>340</td>\n",
              "      <td>128</td>\n",
              "      <td>38</td>\n",
              "      <td>1</td>\n",
              "      <td>0</td>\n",
              "      <td>0</td>\n",
              "      <td>0</td>\n",
              "      <td>0</td>\n",
              "      <td>0</td>\n",
              "      <td>1</td>\n",
              "      <td>0</td>\n",
              "      <td>0</td>\n",
              "      <td>0</td>\n",
              "      <td>0</td>\n",
              "      <td>0</td>\n",
              "      <td>0</td>\n",
              "      <td>1</td>\n",
              "      <td>1</td>\n",
              "      <td>0</td>\n",
              "    </tr>\n",
              "  </tbody>\n",
              "</table>\n",
              "</div>"
            ],
            "text/plain": [
              "   CompPrice  Income  Advertising  ...  Urban_Yes  US_No  US_Yes\n",
              "0        138      73           11  ...          1      0       1\n",
              "1        111      48           16  ...          1      0       1\n",
              "2        113      35           10  ...          1      0       1\n",
              "3        117     100            4  ...          1      0       1\n",
              "4        141      64            3  ...          1      1       0\n",
              "\n",
              "[5 rows x 22 columns]"
            ]
          },
          "metadata": {
            "tags": []
          },
          "execution_count": 125
        }
      ]
    },
    {
      "cell_type": "code",
      "metadata": {
        "id": "ATUUTmO-BICn",
        "colab_type": "code",
        "colab": {}
      },
      "source": [
        ""
      ],
      "execution_count": 0,
      "outputs": []
    },
    {
      "cell_type": "code",
      "metadata": {
        "id": "-DwOP-DiK-nb",
        "colab_type": "code",
        "colab": {}
      },
      "source": [
        "#Train Test Split\n",
        "\n",
        "X_train, X_test, y_train, y_test = train_test_split(data_final, y, test_size = 0.2, stratify = y, random_state = 42)"
      ],
      "execution_count": 0,
      "outputs": []
    },
    {
      "cell_type": "code",
      "metadata": {
        "id": "CsUNwaogLBYR",
        "colab_type": "code",
        "colab": {}
      },
      "source": [
        ""
      ],
      "execution_count": 0,
      "outputs": []
    },
    {
      "cell_type": "code",
      "metadata": {
        "id": "J_t5kBB0BH9P",
        "colab_type": "code",
        "colab": {}
      },
      "source": [
        "#Building Random Forest model on the above dataset and predicting.\n",
        "\n",
        "rf = RandomForestClassifier(n_estimators = 323)\n",
        "rf.fit(X_train, y_train)\n",
        "\n",
        "y_pred = rf.predict(X_test)"
      ],
      "execution_count": 0,
      "outputs": []
    },
    {
      "cell_type": "code",
      "metadata": {
        "id": "EZ2mA5BUMo9M",
        "colab_type": "code",
        "colab": {}
      },
      "source": [
        "#Constructing Confusion Matrix\n",
        "cm = confusion_matrix(y_test, y_pred)"
      ],
      "execution_count": 0,
      "outputs": []
    },
    {
      "cell_type": "code",
      "metadata": {
        "id": "wi0sFcP8NeAY",
        "colab_type": "code",
        "outputId": "89cb3aeb-9b08-49e7-b803-3b43406bdfc1",
        "colab": {
          "base_uri": "https://localhost:8080/",
          "height": 51
        }
      },
      "source": [
        "cm"
      ],
      "execution_count": 0,
      "outputs": [
        {
          "output_type": "execute_result",
          "data": {
            "text/plain": [
              "array([[60,  3],\n",
              "       [ 5, 12]])"
            ]
          },
          "metadata": {
            "tags": []
          },
          "execution_count": 183
        }
      ]
    },
    {
      "cell_type": "code",
      "metadata": {
        "id": "vZeOt49TNg3X",
        "colab_type": "code",
        "colab": {}
      },
      "source": [
        ""
      ],
      "execution_count": 0,
      "outputs": []
    },
    {
      "cell_type": "code",
      "metadata": {
        "id": "LqTVuNT1R6Ox",
        "colab_type": "code",
        "colab": {}
      },
      "source": [
        "cm_ravel = cm.ravel() #tn, fp, fn, tp"
      ],
      "execution_count": 0,
      "outputs": []
    },
    {
      "cell_type": "code",
      "metadata": {
        "id": "dwWMKu6fSuW1",
        "colab_type": "code",
        "outputId": "2d90121c-0c06-4527-d9bd-42b17dae1302",
        "colab": {
          "base_uri": "https://localhost:8080/",
          "height": 34
        }
      },
      "source": [
        "cm_ravel"
      ],
      "execution_count": 0,
      "outputs": [
        {
          "output_type": "execute_result",
          "data": {
            "text/plain": [
              "array([60,  3,  5, 12])"
            ]
          },
          "metadata": {
            "tags": []
          },
          "execution_count": 185
        }
      ]
    },
    {
      "cell_type": "code",
      "metadata": {
        "id": "iMKwR9ZtL3oK",
        "colab_type": "code",
        "outputId": "528be8ff-cef9-491a-c18e-a9d969376c4a",
        "colab": {
          "base_uri": "https://localhost:8080/",
          "height": 136
        }
      },
      "source": [
        "#Accuracy\n",
        "#(tp+tn)/(tp+tn+fp+fn)\n",
        "\n",
        "a = (cm_ravel[3] + cm_ravel[0])/(len(y_test))\n",
        "print(\"Accuracy is: \",round(a*100,2))\n",
        "\n",
        "#Precision\n",
        "#tp/(tp+fp)\n",
        "\n",
        "p = cm_ravel[3]/(cm_ravel[3] + cm_ravel[1])\n",
        "print(\"\\nPrecision is: \", round(p*100,2))\n",
        "\n",
        "#Recall\n",
        "#tp/(tp+fn)\n",
        "\n",
        "r = cm_ravel[3]/ (cm_ravel[3] + cm_ravel[2])\n",
        "print(\"\\nRecall is: \", round(r*100,2))\n",
        "\n",
        "#F1 score\n",
        "#(2*Recall*Precision)/(Recall+ Precision)\n",
        "\n",
        "f1 = (2*r*p)/(r+p)\n",
        "print(\"\\nF1 Score is: \",round(f1*100,2))"
      ],
      "execution_count": 0,
      "outputs": [
        {
          "output_type": "stream",
          "text": [
            "Accuracy is:  90.0\n",
            "\n",
            "Precision is:  80.0\n",
            "\n",
            "Recall is:  70.59\n",
            "\n",
            "F1 Score is:  75.0\n"
          ],
          "name": "stdout"
        }
      ]
    },
    {
      "cell_type": "code",
      "metadata": {
        "id": "yVFOAyMbPik0",
        "colab_type": "code",
        "colab": {}
      },
      "source": [
        ""
      ],
      "execution_count": 0,
      "outputs": []
    },
    {
      "cell_type": "code",
      "metadata": {
        "id": "Tq3knnmqPiv3",
        "colab_type": "code",
        "outputId": "d44d2489-7f89-4db7-f8ef-183b19f4aad0",
        "colab": {
          "base_uri": "https://localhost:8080/",
          "height": 102
        }
      },
      "source": [
        "#Attributes causing high sale.\n",
        "\n",
        "rf.feature_importances_\n",
        "  "
      ],
      "execution_count": 0,
      "outputs": [
        {
          "output_type": "execute_result",
          "data": {
            "text/plain": [
              "array([0.09988949, 0.08603391, 0.08693255, 0.09131463, 0.20088174,\n",
              "       0.1080044 , 0.03609395, 0.10715082, 0.02624048, 0.01627703,\n",
              "       0.00739899, 0.0098118 , 0.00785534, 0.00883345, 0.01074022,\n",
              "       0.01078923, 0.01061106, 0.01059342, 0.0150214 , 0.01408082,\n",
              "       0.01893862, 0.01650663])"
            ]
          },
          "metadata": {
            "tags": []
          },
          "execution_count": 187
        }
      ]
    },
    {
      "cell_type": "code",
      "metadata": {
        "id": "9fGuq3pJPi1s",
        "colab_type": "code",
        "colab": {}
      },
      "source": [
        ""
      ],
      "execution_count": 0,
      "outputs": []
    },
    {
      "cell_type": "code",
      "metadata": {
        "id": "wJQRDm9jPizw",
        "colab_type": "code",
        "colab": {}
      },
      "source": [
        "#combining feature_importance score and the column's index number in a dictionary.\n",
        "# and sorting based on feature importance in descending order. \n",
        "\n",
        "features = dict()\n",
        "j = 0\n",
        "for i in list(rf.feature_importances_):\n",
        "  features[i] = j\n",
        "  j = j+1\n",
        "\n",
        "sorted_features = sorted(features.items(), key=operator.itemgetter(0), reverse = True)  #Sorting features\n",
        "\n",
        "feature_index = [sorted_features[i][1]  for i in range(len(sorted_features))]   #extracting sorted feature's index"
      ],
      "execution_count": 0,
      "outputs": []
    },
    {
      "cell_type": "code",
      "metadata": {
        "id": "jW2tpRjuPihw",
        "colab_type": "code",
        "outputId": "545ef145-f67d-47c9-8ed8-e4bf308f2df5",
        "colab": {
          "base_uri": "https://localhost:8080/",
          "height": 34
        }
      },
      "source": [
        "# 5 top Important features\n",
        "important_features = [data_final.columns[i] for i in feature_index[0:5]]\n",
        "\n",
        "important_features"
      ],
      "execution_count": 0,
      "outputs": [
        {
          "output_type": "execute_result",
          "data": {
            "text/plain": [
              "['Price', 'Age', 'ShelveLoc_Good', 'CompPrice', 'Population']"
            ]
          },
          "metadata": {
            "tags": []
          },
          "execution_count": 189
        }
      ]
    },
    {
      "cell_type": "code",
      "metadata": {
        "id": "ItasomQQ9GD3",
        "colab_type": "code",
        "colab": {}
      },
      "source": [
        ""
      ],
      "execution_count": 0,
      "outputs": []
    }
  ]
}