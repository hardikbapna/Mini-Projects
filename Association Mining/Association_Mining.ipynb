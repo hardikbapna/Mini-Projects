{
  "nbformat": 4,
  "nbformat_minor": 0,
  "metadata": {
    "colab": {
      "name": "Association Mining.ipynb",
      "provenance": [],
      "collapsed_sections": []
    },
    "kernelspec": {
      "name": "python3",
      "display_name": "Python 3"
    },
    "accelerator": "GPU"
  },
  "cells": [
    {
      "cell_type": "code",
      "metadata": {
        "id": "uDSvZ1glq4KA",
        "colab_type": "code",
        "outputId": "d875a8a0-d0f6-4f9f-f589-c1e0efce32e1",
        "colab": {
          "base_uri": "https://localhost:8080/",
          "height": 173
        }
      },
      "source": [
        "!pip install apyori"
      ],
      "execution_count": 2,
      "outputs": [
        {
          "output_type": "stream",
          "text": [
            "Collecting apyori\n",
            "  Downloading https://files.pythonhosted.org/packages/5e/62/5ffde5c473ea4b033490617ec5caa80d59804875ad3c3c57c0976533a21a/apyori-1.1.2.tar.gz\n",
            "Building wheels for collected packages: apyori\n",
            "  Building wheel for apyori (setup.py) ... \u001b[?25l\u001b[?25hdone\n",
            "  Created wheel for apyori: filename=apyori-1.1.2-cp36-none-any.whl size=5975 sha256=88540b3aa43f814f3c1472da1e593c7557b6286220bd06ad79554af724d92e64\n",
            "  Stored in directory: /root/.cache/pip/wheels/5d/92/bb/474bbadbc8c0062b9eb168f69982a0443263f8ab1711a8cad0\n",
            "Successfully built apyori\n",
            "Installing collected packages: apyori\n",
            "Successfully installed apyori-1.1.2\n"
          ],
          "name": "stdout"
        }
      ]
    },
    {
      "cell_type": "code",
      "metadata": {
        "id": "D_FkC4Vr8Zfb",
        "colab_type": "code",
        "colab": {}
      },
      "source": [
        "import numpy as np\n",
        "import pandas as pd\n",
        "import scipy as sc\n",
        "import matplotlib.pyplot as plt\n",
        "import seaborn as sns\n",
        "from sklearn.model_selection import train_test_split\n",
        "from sklearn.naive_bayes import GaussianNB\n",
        "from sklearn.preprocessing import MinMaxScaler\n",
        "from sklearn.metrics import confusion_matrix\n",
        "from sklearn.preprocessing import StandardScaler\n",
        "from sklearn.metrics import accuracy_score\n",
        "from sklearn.utils import resample\n",
        "import math\n",
        "from sklearn.tree import DecisionTreeClassifier\n",
        "from sklearn.svm import SVC\n",
        "from sklearn.model_selection import GridSearchCV\n",
        "from sklearn.linear_model import SGDClassifier\n",
        "from sklearn.calibration import CalibratedClassifierCV\n",
        "\n",
        "from apyori import apriori"
      ],
      "execution_count": 0,
      "outputs": []
    },
    {
      "cell_type": "code",
      "metadata": {
        "id": "a6f-6Og0aP4r",
        "colab_type": "code",
        "colab": {}
      },
      "source": [
        "import warnings\n",
        "warnings.filterwarnings('ignore')"
      ],
      "execution_count": 0,
      "outputs": []
    },
    {
      "cell_type": "code",
      "metadata": {
        "id": "zyrYu8L-cQdH",
        "colab_type": "code",
        "outputId": "72bd1e94-37d1-42a4-8a13-5f3abbda0c40",
        "colab": {
          "base_uri": "https://localhost:8080/",
          "height": 124
        }
      },
      "source": [
        "#--------------------Run this cell to mount your Google Drive-------------------\n",
        "from google.colab import drive\n",
        "drive.mount('/content/drive')"
      ],
      "execution_count": 5,
      "outputs": [
        {
          "output_type": "stream",
          "text": [
            "Go to this URL in a browser: https://accounts.google.com/o/oauth2/auth?client_id=947318989803-6bn6qk8qdgf4n4g3pfee6491hc0brc4i.apps.googleusercontent.com&redirect_uri=urn%3aietf%3awg%3aoauth%3a2.0%3aoob&response_type=code&scope=email%20https%3a%2f%2fwww.googleapis.com%2fauth%2fdocs.test%20https%3a%2f%2fwww.googleapis.com%2fauth%2fdrive%20https%3a%2f%2fwww.googleapis.com%2fauth%2fdrive.photos.readonly%20https%3a%2f%2fwww.googleapis.com%2fauth%2fpeopleapi.readonly\n",
            "\n",
            "Enter your authorization code:\n",
            "··········\n",
            "Mounted at /content/drive\n"
          ],
          "name": "stdout"
        }
      ]
    },
    {
      "cell_type": "code",
      "metadata": {
        "id": "GbUiRyUdcW6v",
        "colab_type": "code",
        "colab": {}
      },
      "source": [
        "#Reading the file from Googlr Drive\n",
        "\n",
        "data = pd.read_csv(\"/content/drive/My Drive/ER/Association Mining/groceries.csv\", sep = '\\t', header = None)\n",
        "#data_test = pd.read_csv(\"/content/drive/My Drive/ER/SVM/SalaryData_Test.csv\", sep = ',')\n",
        "#data_x = data.drop(labels = [\"y\"], axis = 1)\n",
        "#data_y = data[\"y\"]"
      ],
      "execution_count": 0,
      "outputs": []
    },
    {
      "cell_type": "code",
      "metadata": {
        "id": "AAAmTdVg73cY",
        "colab_type": "code",
        "outputId": "213e938c-c667-44ef-ec1e-7244aca030d7",
        "colab": {
          "base_uri": "https://localhost:8080/",
          "height": 662
        }
      },
      "source": [
        "data.head(20)"
      ],
      "execution_count": 7,
      "outputs": [
        {
          "output_type": "execute_result",
          "data": {
            "text/html": [
              "<div>\n",
              "<style scoped>\n",
              "    .dataframe tbody tr th:only-of-type {\n",
              "        vertical-align: middle;\n",
              "    }\n",
              "\n",
              "    .dataframe tbody tr th {\n",
              "        vertical-align: top;\n",
              "    }\n",
              "\n",
              "    .dataframe thead th {\n",
              "        text-align: right;\n",
              "    }\n",
              "</style>\n",
              "<table border=\"1\" class=\"dataframe\">\n",
              "  <thead>\n",
              "    <tr style=\"text-align: right;\">\n",
              "      <th></th>\n",
              "      <th>0</th>\n",
              "    </tr>\n",
              "  </thead>\n",
              "  <tbody>\n",
              "    <tr>\n",
              "      <th>0</th>\n",
              "      <td>citrus fruit,semi-finished bread,margarine,rea...</td>\n",
              "    </tr>\n",
              "    <tr>\n",
              "      <th>1</th>\n",
              "      <td>tropical fruit,yogurt,coffee</td>\n",
              "    </tr>\n",
              "    <tr>\n",
              "      <th>2</th>\n",
              "      <td>whole milk</td>\n",
              "    </tr>\n",
              "    <tr>\n",
              "      <th>3</th>\n",
              "      <td>pip fruit,yogurt,cream cheese ,meat spreads</td>\n",
              "    </tr>\n",
              "    <tr>\n",
              "      <th>4</th>\n",
              "      <td>other vegetables,whole milk,condensed milk,lon...</td>\n",
              "    </tr>\n",
              "    <tr>\n",
              "      <th>5</th>\n",
              "      <td>whole milk,butter,yogurt,rice,abrasive cleaner</td>\n",
              "    </tr>\n",
              "    <tr>\n",
              "      <th>6</th>\n",
              "      <td>rolls/buns</td>\n",
              "    </tr>\n",
              "    <tr>\n",
              "      <th>7</th>\n",
              "      <td>other vegetables,UHT-milk,rolls/buns,bottled b...</td>\n",
              "    </tr>\n",
              "    <tr>\n",
              "      <th>8</th>\n",
              "      <td>pot plants</td>\n",
              "    </tr>\n",
              "    <tr>\n",
              "      <th>9</th>\n",
              "      <td>whole milk,cereals</td>\n",
              "    </tr>\n",
              "    <tr>\n",
              "      <th>10</th>\n",
              "      <td>tropical fruit,other vegetables,white bread,bo...</td>\n",
              "    </tr>\n",
              "    <tr>\n",
              "      <th>11</th>\n",
              "      <td>citrus fruit,tropical fruit,whole milk,butter,...</td>\n",
              "    </tr>\n",
              "    <tr>\n",
              "      <th>12</th>\n",
              "      <td>beef</td>\n",
              "    </tr>\n",
              "    <tr>\n",
              "      <th>13</th>\n",
              "      <td>frankfurter,rolls/buns,soda</td>\n",
              "    </tr>\n",
              "    <tr>\n",
              "      <th>14</th>\n",
              "      <td>chicken,tropical fruit</td>\n",
              "    </tr>\n",
              "    <tr>\n",
              "      <th>15</th>\n",
              "      <td>butter,sugar,fruit/vegetable juice,newspapers</td>\n",
              "    </tr>\n",
              "    <tr>\n",
              "      <th>16</th>\n",
              "      <td>fruit/vegetable juice</td>\n",
              "    </tr>\n",
              "    <tr>\n",
              "      <th>17</th>\n",
              "      <td>packaged fruit/vegetables</td>\n",
              "    </tr>\n",
              "    <tr>\n",
              "      <th>18</th>\n",
              "      <td>chocolate</td>\n",
              "    </tr>\n",
              "    <tr>\n",
              "      <th>19</th>\n",
              "      <td>specialty bar</td>\n",
              "    </tr>\n",
              "  </tbody>\n",
              "</table>\n",
              "</div>"
            ],
            "text/plain": [
              "                                                    0\n",
              "0   citrus fruit,semi-finished bread,margarine,rea...\n",
              "1                        tropical fruit,yogurt,coffee\n",
              "2                                          whole milk\n",
              "3         pip fruit,yogurt,cream cheese ,meat spreads\n",
              "4   other vegetables,whole milk,condensed milk,lon...\n",
              "5      whole milk,butter,yogurt,rice,abrasive cleaner\n",
              "6                                          rolls/buns\n",
              "7   other vegetables,UHT-milk,rolls/buns,bottled b...\n",
              "8                                          pot plants\n",
              "9                                  whole milk,cereals\n",
              "10  tropical fruit,other vegetables,white bread,bo...\n",
              "11  citrus fruit,tropical fruit,whole milk,butter,...\n",
              "12                                               beef\n",
              "13                        frankfurter,rolls/buns,soda\n",
              "14                             chicken,tropical fruit\n",
              "15      butter,sugar,fruit/vegetable juice,newspapers\n",
              "16                              fruit/vegetable juice\n",
              "17                          packaged fruit/vegetables\n",
              "18                                          chocolate\n",
              "19                                      specialty bar"
            ]
          },
          "metadata": {
            "tags": []
          },
          "execution_count": 7
        }
      ]
    },
    {
      "cell_type": "code",
      "metadata": {
        "id": "tH3k7RaU-Rn4",
        "colab_type": "code",
        "colab": {}
      },
      "source": [
        "#List of lists\n",
        "lol = []\n",
        "for i in range(0, 9835):\n",
        "  lol.append(list(data[0][[i]])[0].split(','))"
      ],
      "execution_count": 0,
      "outputs": []
    },
    {
      "cell_type": "code",
      "metadata": {
        "id": "A713bYGHL3zq",
        "colab_type": "code",
        "outputId": "d996ee56-d165-4ebc-950f-e8ed30bb4e69",
        "colab": {
          "base_uri": "https://localhost:8080/",
          "height": 35
        }
      },
      "source": [
        "lol[56]"
      ],
      "execution_count": 9,
      "outputs": [
        {
          "output_type": "execute_result",
          "data": {
            "text/plain": [
              "['packaged fruit/vegetables', 'brown bread', 'canned beer']"
            ]
          },
          "metadata": {
            "tags": []
          },
          "execution_count": 9
        }
      ]
    },
    {
      "cell_type": "code",
      "metadata": {
        "id": "jBkHbscfL33T",
        "colab_type": "code",
        "outputId": "a1f3da02-510d-4c1d-a00d-19927d8df471",
        "colab": {
          "base_uri": "https://localhost:8080/",
          "height": 35
        }
      },
      "source": [
        "len(data)"
      ],
      "execution_count": 10,
      "outputs": [
        {
          "output_type": "execute_result",
          "data": {
            "text/plain": [
              "9835"
            ]
          },
          "metadata": {
            "tags": []
          },
          "execution_count": 10
        }
      ]
    },
    {
      "cell_type": "code",
      "metadata": {
        "id": "NO1s4mxQVK1w",
        "colab_type": "code",
        "colab": {}
      },
      "source": [
        ""
      ],
      "execution_count": 0,
      "outputs": []
    },
    {
      "cell_type": "code",
      "metadata": {
        "id": "3dd-RuzML3xc",
        "colab_type": "code",
        "colab": {}
      },
      "source": [
        "#For Min length of 2\n",
        "length_of_rules_2 = []\n",
        "for i in [0.002, 0.003, 0.004, 0.0045]:\n",
        "  for j in [0.5, 0.6, 0.7, 0.8, 0.9]:\n",
        "    association_rules = apriori(lol, min_support = i, min_confidence = j, min_lift = 1.2, min_length = 2)\n",
        "    length_of_rules_2.append(len(list(association_rules)))"
      ],
      "execution_count": 0,
      "outputs": []
    },
    {
      "cell_type": "code",
      "metadata": {
        "id": "KOqN9PVHL3wJ",
        "colab_type": "code",
        "colab": {}
      },
      "source": [
        "#For Min length of 5\n",
        "length_of_rules_5 = []\n",
        "for i in [0.002, 0.003, 0.004, 0.0045]:\n",
        "  for j in [0.5, 0.6, 0.7, 0.8, 0.9]:\n",
        "    association_rules = apriori(lol, min_support = i, min_confidence = j, min_lift = 1.2, min_length = 5)\n",
        "    length_of_rules_5.append(len(list(association_rules)))"
      ],
      "execution_count": 0,
      "outputs": []
    },
    {
      "cell_type": "code",
      "metadata": {
        "id": "WsDDrvAfiFwf",
        "colab_type": "code",
        "colab": {}
      },
      "source": [
        "#For Min length of 10\n",
        "length_of_rules_10 = []\n",
        "for i in [0.002, 0.003, 0.004, 0.0045]:\n",
        "  for j in [0.5, 0.6, 0.7, 0.8, 0.9]:\n",
        "    association_rules = apriori(lol, min_support = i, min_confidence = j, min_lift = 1.2, min_length = 10)\n",
        "    length_of_rules_10.append(len(list(association_rules)))"
      ],
      "execution_count": 0,
      "outputs": []
    },
    {
      "cell_type": "code",
      "metadata": {
        "id": "F6q3aVQGL3pu",
        "colab_type": "code",
        "colab": {}
      },
      "source": [
        "def to_dataframe(length_of_rules):\n",
        "  k = 0\n",
        "  list_of_list = []\n",
        "  for i in [0.002, 0.003, 0.004, 0.0045]:\n",
        "    for j in [0.5, 0.6, 0.7, 0.8, 0.9]:\n",
        "      list_of_list.append([i, j, length_of_rules[k]])\n",
        "      k+=1\n",
        "\n",
        "  return list_of_list"
      ],
      "execution_count": 0,
      "outputs": []
    },
    {
      "cell_type": "code",
      "metadata": {
        "id": "dN4y_DbBWIWx",
        "colab_type": "code",
        "colab": {}
      },
      "source": [
        "rules_df_2 = pd.DataFrame(to_dataframe(length_of_rules_2), columns = [\"Min_Support\", \"Min_Confidence\", \"Total Rules\"])\n",
        "rules_df_5 = pd.DataFrame(to_dataframe(length_of_rules_5), columns = [\"Min_Support\", \"Min_Confidence\", \"Total Rules\"])\n",
        "rules_df_10 = pd.DataFrame(to_dataframe(length_of_rules_10), columns = [\"Min_Support\", \"Min_Confidence\", \"Total Rules\"])"
      ],
      "execution_count": 0,
      "outputs": []
    },
    {
      "cell_type": "code",
      "metadata": {
        "id": "pwqA20-aWIgj",
        "colab_type": "code",
        "colab": {}
      },
      "source": [
        "heat_map_2 = rules_df_2.pivot( index  = \"Min_Support\", columns = \"Min_Confidence\", values = \"Total Rules\")\n",
        "heat_map_5 = rules_df_5.pivot( index  = \"Min_Support\", columns = \"Min_Confidence\", values = \"Total Rules\")\n",
        "heat_map_10 = rules_df_10.pivot( index  = \"Min_Support\", columns = \"Min_Confidence\", values = \"Total Rules\")"
      ],
      "execution_count": 0,
      "outputs": []
    },
    {
      "cell_type": "code",
      "metadata": {
        "id": "9Icf7ZmaWIem",
        "colab_type": "code",
        "colab": {
          "base_uri": "https://localhost:8080/",
          "height": 313
        },
        "outputId": "f2e1fed7-8ae4-49bb-c988-60128050ddca"
      },
      "source": [
        "sns.heatmap(heat_map_2, annot = True)\n",
        "plt.title(\"Heat Map for Min_Length = 2\")"
      ],
      "execution_count": 36,
      "outputs": [
        {
          "output_type": "execute_result",
          "data": {
            "text/plain": [
              "Text(0.5, 1, 'Heat Map for Min_Length = 2')"
            ]
          },
          "metadata": {
            "tags": []
          },
          "execution_count": 36
        },
        {
          "output_type": "display_data",
          "data": {
            "image/png": "[encoded data removed]",
            "text/plain": [
              "<Figure size 432x288 with 2 Axes>"
            ]
          },
          "metadata": {
            "tags": []
          }
        }
      ]
    },
    {
      "cell_type": "code",
      "metadata": {
        "id": "hWYZ75QhlbXj",
        "colab_type": "code",
        "colab": {
          "base_uri": "https://localhost:8080/",
          "height": 313
        },
        "outputId": "06c959ef-10d2-410a-a5e3-fdcf6d8f471a"
      },
      "source": [
        "sns.heatmap(heat_map_5, annot = True)\n",
        "plt.title(\"Heat Map for Min_Length = 5\")"
      ],
      "execution_count": 37,
      "outputs": [
        {
          "output_type": "execute_result",
          "data": {
            "text/plain": [
              "Text(0.5, 1, 'Heat Map for Min_Length = 5')"
            ]
          },
          "metadata": {
            "tags": []
          },
          "execution_count": 37
        },
        {
          "output_type": "display_data",
          "data": {
            "image/png": "[encoded data removed]",
            "text/plain": [
              "<Figure size 432x288 with 2 Axes>"
            ]
          },
          "metadata": {
            "tags": []
          }
        }
      ]
    },
    {
      "cell_type": "code",
      "metadata": {
        "id": "2A5glci9lbTj",
        "colab_type": "code",
        "colab": {
          "base_uri": "https://localhost:8080/",
          "height": 313
        },
        "outputId": "0c6cb83b-5228-4e00-fa70-f0894f9eb505"
      },
      "source": [
        "sns.heatmap(heat_map_10, annot = True)\n",
        "plt.title(\"Heat Map for Min_Length = 10\")"
      ],
      "execution_count": 38,
      "outputs": [
        {
          "output_type": "execute_result",
          "data": {
            "text/plain": [
              "Text(0.5, 1, 'Heat Map for Min_Length = 10')"
            ]
          },
          "metadata": {
            "tags": []
          },
          "execution_count": 38
        },
        {
          "output_type": "display_data",
          "data": {
            "image/png": "[encoded data removed]",
            "text/plain": [
              "<Figure size 432x288 with 2 Axes>"
            ]
          },
          "metadata": {
            "tags": []
          }
        }
      ]
    },
    {
      "cell_type": "code",
      "metadata": {
        "id": "OmfjSzKPWIUe",
        "colab_type": "code",
        "colab": {}
      },
      "source": [
        ""
      ],
      "execution_count": 0,
      "outputs": []
    },
    {
      "cell_type": "code",
      "metadata": {
        "id": "q5TAIeGyWISM",
        "colab_type": "code",
        "colab": {}
      },
      "source": [
        ""
      ],
      "execution_count": 0,
      "outputs": []
    },
    {
      "cell_type": "code",
      "metadata": {
        "id": "oZtUebJdWIQP",
        "colab_type": "code",
        "colab": {}
      },
      "source": [
        ""
      ],
      "execution_count": 0,
      "outputs": []
    },
    {
      "cell_type": "code",
      "metadata": {
        "id": "JbH9KkSaWINE",
        "colab_type": "code",
        "colab": {}
      },
      "source": [
        ""
      ],
      "execution_count": 0,
      "outputs": []
    }
  ]
}